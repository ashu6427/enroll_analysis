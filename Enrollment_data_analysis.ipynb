{
 "cells": [
  {
   "cell_type": "markdown",
   "id": "b6af6b58-a0c7-4a63-86b0-58422f5418b2",
   "metadata": {},
   "source": [
    "#                                  The California State University Enrollment Data"
   ]
  },
  {
   "cell_type": "code",
   "execution_count": 1,
   "id": "54ff2091-1343-4239-ac25-848910536d0e",
   "metadata": {},
   "outputs": [],
   "source": [
    "import pandas as pd\n",
    "import numpy as  np\n",
    "import matplotlib.pyplot as plt\n",
    "import seaborn as sns\n",
    "import warnings\n",
    "warnings.filterwarnings('ignore')"
   ]
  },
  {
   "cell_type": "code",
   "execution_count": 2,
   "id": "b26a55fa-2f1a-499c-b4ac-61c8015ebc55",
   "metadata": {},
   "outputs": [
    {
     "data": {
      "text/html": [
       "<div>\n",
       "<style scoped>\n",
       "    .dataframe tbody tr th:only-of-type {\n",
       "        vertical-align: middle;\n",
       "    }\n",
       "\n",
       "    .dataframe tbody tr th {\n",
       "        vertical-align: top;\n",
       "    }\n",
       "\n",
       "    .dataframe thead th {\n",
       "        text-align: right;\n",
       "    }\n",
       "</style>\n",
       "<table border=\"1\" class=\"dataframe\">\n",
       "  <thead>\n",
       "    <tr style=\"text-align: right;\">\n",
       "      <th></th>\n",
       "      <th>County</th>\n",
       "      <th>2013</th>\n",
       "      <th>2014</th>\n",
       "      <th>2015</th>\n",
       "      <th>2016</th>\n",
       "      <th>2017</th>\n",
       "      <th>2018</th>\n",
       "      <th>2019</th>\n",
       "      <th>2020</th>\n",
       "      <th>2021</th>\n",
       "      <th>2022</th>\n",
       "      <th>2023</th>\n",
       "    </tr>\n",
       "  </thead>\n",
       "  <tbody>\n",
       "    <tr>\n",
       "      <th>0</th>\n",
       "      <td>Bakersfield</td>\n",
       "      <td>8,371</td>\n",
       "      <td>8,720</td>\n",
       "      <td>9,228</td>\n",
       "      <td>9,341</td>\n",
       "      <td>9,863</td>\n",
       "      <td>10,493</td>\n",
       "      <td>11,199</td>\n",
       "      <td>11,397</td>\n",
       "      <td>10,624</td>\n",
       "      <td>9,261</td>\n",
       "      <td>9,399</td>\n",
       "    </tr>\n",
       "    <tr>\n",
       "      <th>1</th>\n",
       "      <td>Channel Islands</td>\n",
       "      <td>5,140</td>\n",
       "      <td>5,879</td>\n",
       "      <td>6,167</td>\n",
       "      <td>6,611</td>\n",
       "      <td>7,053</td>\n",
       "      <td>7,095</td>\n",
       "      <td>7,093</td>\n",
       "      <td>6,943</td>\n",
       "      <td>6,437</td>\n",
       "      <td>5,643</td>\n",
       "      <td>5,127</td>\n",
       "    </tr>\n",
       "    <tr>\n",
       "      <th>2</th>\n",
       "      <td>Chico</td>\n",
       "      <td>16,356</td>\n",
       "      <td>17,287</td>\n",
       "      <td>17,220</td>\n",
       "      <td>17,557</td>\n",
       "      <td>17,789</td>\n",
       "      <td>17,488</td>\n",
       "      <td>17,019</td>\n",
       "      <td>16,630</td>\n",
       "      <td>15,421</td>\n",
       "      <td>13,840</td>\n",
       "      <td>13,999</td>\n",
       "    </tr>\n",
       "    <tr>\n",
       "      <th>3</th>\n",
       "      <td>Dominguez Hills</td>\n",
       "      <td>14,670</td>\n",
       "      <td>14,687</td>\n",
       "      <td>14,635</td>\n",
       "      <td>14,731</td>\n",
       "      <td>15,179</td>\n",
       "      <td>15,741</td>\n",
       "      <td>17,027</td>\n",
       "      <td>17,763</td>\n",
       "      <td>16,916</td>\n",
       "      <td>15,530</td>\n",
       "      <td>14,299</td>\n",
       "    </tr>\n",
       "    <tr>\n",
       "      <th>4</th>\n",
       "      <td>East Bay</td>\n",
       "      <td>14,526</td>\n",
       "      <td>14,823</td>\n",
       "      <td>15,528</td>\n",
       "      <td>15,855</td>\n",
       "      <td>15,435</td>\n",
       "      <td>14,525</td>\n",
       "      <td>14,705</td>\n",
       "      <td>14,641</td>\n",
       "      <td>13,499</td>\n",
       "      <td>12,080</td>\n",
       "      <td>11,771</td>\n",
       "    </tr>\n",
       "  </tbody>\n",
       "</table>\n",
       "</div>"
      ],
      "text/plain": [
       "            County    2013    2014    2015    2016    2017    2018    2019  \\\n",
       "0      Bakersfield   8,371   8,720   9,228   9,341   9,863  10,493  11,199   \n",
       "1  Channel Islands   5,140   5,879   6,167   6,611   7,053   7,095   7,093   \n",
       "2            Chico  16,356  17,287  17,220  17,557  17,789  17,488  17,019   \n",
       "3  Dominguez Hills  14,670  14,687  14,635  14,731  15,179  15,741  17,027   \n",
       "4         East Bay  14,526  14,823  15,528  15,855  15,435  14,525  14,705   \n",
       "\n",
       "     2020    2021    2022    2023  \n",
       "0  11,397  10,624   9,261   9,399  \n",
       "1   6,943   6,437   5,643   5,127  \n",
       "2  16,630  15,421  13,840  13,999  \n",
       "3  17,763  16,916  15,530  14,299  \n",
       "4  14,641  13,499  12,080  11,771  "
      ]
     },
     "execution_count": 2,
     "metadata": {},
     "output_type": "execute_result"
    }
   ],
   "source": [
    "df = pd.read_csv(\"Data Table.csv\")\n",
    "df.head()"
   ]
  },
  {
   "cell_type": "markdown",
   "id": "1ffb513e-4afe-4a0b-949b-6bdf68869871",
   "metadata": {},
   "source": [
    "## will check the information statistics for the dataset"
   ]
  },
  {
   "cell_type": "code",
   "execution_count": 3,
   "id": "2118c47b-14b5-4aff-9033-52e442452736",
   "metadata": {},
   "outputs": [
    {
     "name": "stdout",
     "output_type": "stream",
     "text": [
      "<class 'pandas.core.frame.DataFrame'>\n",
      "RangeIndex: 26 entries, 0 to 25\n",
      "Data columns (total 12 columns):\n",
      " #   Column  Non-Null Count  Dtype \n",
      "---  ------  --------------  ----- \n",
      " 0   County  26 non-null     object\n",
      " 1   2013    26 non-null     object\n",
      " 2   2014    26 non-null     object\n",
      " 3   2015    26 non-null     object\n",
      " 4   2016    26 non-null     object\n",
      " 5   2017    26 non-null     object\n",
      " 6   2018    26 non-null     object\n",
      " 7   2019    26 non-null     object\n",
      " 8   2020    26 non-null     object\n",
      " 9   2021    26 non-null     object\n",
      " 10  2022    26 non-null     object\n",
      " 11  2023    26 non-null     object\n",
      "dtypes: object(12)\n",
      "memory usage: 2.6+ KB\n"
     ]
    }
   ],
   "source": [
    "df.info()"
   ]
  },
  {
   "cell_type": "markdown",
   "id": "f26baac5-c380-453b-b057-9dbd3f75e43d",
   "metadata": {},
   "source": [
    "## Converting all values of years columns into integer"
   ]
  },
  {
   "cell_type": "code",
   "execution_count": 4,
   "id": "20760b2e-e372-4f1b-9dbc-22808374e400",
   "metadata": {},
   "outputs": [
    {
     "data": {
      "text/html": [
       "<div>\n",
       "<style scoped>\n",
       "    .dataframe tbody tr th:only-of-type {\n",
       "        vertical-align: middle;\n",
       "    }\n",
       "\n",
       "    .dataframe tbody tr th {\n",
       "        vertical-align: top;\n",
       "    }\n",
       "\n",
       "    .dataframe thead th {\n",
       "        text-align: right;\n",
       "    }\n",
       "</style>\n",
       "<table border=\"1\" class=\"dataframe\">\n",
       "  <thead>\n",
       "    <tr style=\"text-align: right;\">\n",
       "      <th></th>\n",
       "      <th>County</th>\n",
       "      <th>2013</th>\n",
       "      <th>2014</th>\n",
       "      <th>2015</th>\n",
       "      <th>2016</th>\n",
       "      <th>2017</th>\n",
       "      <th>2018</th>\n",
       "      <th>2019</th>\n",
       "      <th>2020</th>\n",
       "      <th>2021</th>\n",
       "      <th>2022</th>\n",
       "      <th>2023</th>\n",
       "    </tr>\n",
       "  </thead>\n",
       "  <tbody>\n",
       "    <tr>\n",
       "      <th>0</th>\n",
       "      <td>Bakersfield</td>\n",
       "      <td>8,371</td>\n",
       "      <td>8,720</td>\n",
       "      <td>9,228</td>\n",
       "      <td>9,341</td>\n",
       "      <td>9,863</td>\n",
       "      <td>10,493</td>\n",
       "      <td>11,199</td>\n",
       "      <td>11,397</td>\n",
       "      <td>10,624</td>\n",
       "      <td>9,261</td>\n",
       "      <td>9,399</td>\n",
       "    </tr>\n",
       "    <tr>\n",
       "      <th>1</th>\n",
       "      <td>Channel Islands</td>\n",
       "      <td>5,140</td>\n",
       "      <td>5,879</td>\n",
       "      <td>6,167</td>\n",
       "      <td>6,611</td>\n",
       "      <td>7,053</td>\n",
       "      <td>7,095</td>\n",
       "      <td>7,093</td>\n",
       "      <td>6,943</td>\n",
       "      <td>6,437</td>\n",
       "      <td>5,643</td>\n",
       "      <td>5,127</td>\n",
       "    </tr>\n",
       "    <tr>\n",
       "      <th>2</th>\n",
       "      <td>Chico</td>\n",
       "      <td>16,356</td>\n",
       "      <td>17,287</td>\n",
       "      <td>17,220</td>\n",
       "      <td>17,557</td>\n",
       "      <td>17,789</td>\n",
       "      <td>17,488</td>\n",
       "      <td>17,019</td>\n",
       "      <td>16,630</td>\n",
       "      <td>15,421</td>\n",
       "      <td>13,840</td>\n",
       "      <td>13,999</td>\n",
       "    </tr>\n",
       "    <tr>\n",
       "      <th>3</th>\n",
       "      <td>Dominguez Hills</td>\n",
       "      <td>14,670</td>\n",
       "      <td>14,687</td>\n",
       "      <td>14,635</td>\n",
       "      <td>14,731</td>\n",
       "      <td>15,179</td>\n",
       "      <td>15,741</td>\n",
       "      <td>17,027</td>\n",
       "      <td>17,763</td>\n",
       "      <td>16,916</td>\n",
       "      <td>15,530</td>\n",
       "      <td>14,299</td>\n",
       "    </tr>\n",
       "    <tr>\n",
       "      <th>4</th>\n",
       "      <td>East Bay</td>\n",
       "      <td>14,526</td>\n",
       "      <td>14,823</td>\n",
       "      <td>15,528</td>\n",
       "      <td>15,855</td>\n",
       "      <td>15,435</td>\n",
       "      <td>14,525</td>\n",
       "      <td>14,705</td>\n",
       "      <td>14,641</td>\n",
       "      <td>13,499</td>\n",
       "      <td>12,080</td>\n",
       "      <td>11,771</td>\n",
       "    </tr>\n",
       "  </tbody>\n",
       "</table>\n",
       "</div>"
      ],
      "text/plain": [
       "            County    2013    2014    2015    2016    2017    2018    2019  \\\n",
       "0      Bakersfield   8,371   8,720   9,228   9,341   9,863  10,493  11,199   \n",
       "1  Channel Islands   5,140   5,879   6,167   6,611   7,053   7,095   7,093   \n",
       "2            Chico  16,356  17,287  17,220  17,557  17,789  17,488  17,019   \n",
       "3  Dominguez Hills  14,670  14,687  14,635  14,731  15,179  15,741  17,027   \n",
       "4         East Bay  14,526  14,823  15,528  15,855  15,435  14,525  14,705   \n",
       "\n",
       "     2020    2021    2022    2023  \n",
       "0  11,397  10,624   9,261   9,399  \n",
       "1   6,943   6,437   5,643   5,127  \n",
       "2  16,630  15,421  13,840  13,999  \n",
       "3  17,763  16,916  15,530  14,299  \n",
       "4  14,641  13,499  12,080  11,771  "
      ]
     },
     "execution_count": 4,
     "metadata": {},
     "output_type": "execute_result"
    }
   ],
   "source": [
    "df2 = df.copy()\n",
    "df2.head()"
   ]
  },
  {
   "cell_type": "code",
   "execution_count": 5,
   "id": "64671fac-baae-4ce2-bbc2-7e34e6d4995e",
   "metadata": {},
   "outputs": [
    {
     "data": {
      "text/plain": [
       "Index(['County', '2013', '2014', '2015', '2016', '2017', '2018', '2019',\n",
       "       '2020', '2021', '2022', '2023'],\n",
       "      dtype='object')"
      ]
     },
     "execution_count": 5,
     "metadata": {},
     "output_type": "execute_result"
    }
   ],
   "source": [
    "df2.columns"
   ]
  },
  {
   "cell_type": "code",
   "execution_count": 6,
   "id": "87386dc9-7e44-4e7d-8330-001d3cdf7026",
   "metadata": {},
   "outputs": [
    {
     "data": {
      "text/plain": [
       "Index(['2013', '2014', '2015', '2016', '2017', '2018', '2019', '2020', '2021',\n",
       "       '2022', '2023'],\n",
       "      dtype='object')"
      ]
     },
     "execution_count": 6,
     "metadata": {},
     "output_type": "execute_result"
    }
   ],
   "source": [
    "col_list = df2.columns\n",
    "col_list[1:]"
   ]
  },
  {
   "cell_type": "code",
   "execution_count": 7,
   "id": "6fccfaf4-24d3-4da9-8a26-3e9d8304f747",
   "metadata": {},
   "outputs": [],
   "source": [
    "def convert_to_int(string):\n",
    "    clean_string = string.replace(',','')\n",
    "    return int(clean_string)\n",
    "\n",
    "for col in col_list[1:]:\n",
    "    df2[col] = df2[col].apply(convert_to_int)"
   ]
  },
  {
   "cell_type": "code",
   "execution_count": 8,
   "id": "68546ded-135d-457c-969e-ac6f997dbed7",
   "metadata": {},
   "outputs": [
    {
     "name": "stdout",
     "output_type": "stream",
     "text": [
      "<class 'pandas.core.frame.DataFrame'>\n",
      "RangeIndex: 26 entries, 0 to 25\n",
      "Data columns (total 12 columns):\n",
      " #   Column  Non-Null Count  Dtype \n",
      "---  ------  --------------  ----- \n",
      " 0   County  26 non-null     object\n",
      " 1   2013    26 non-null     int64 \n",
      " 2   2014    26 non-null     int64 \n",
      " 3   2015    26 non-null     int64 \n",
      " 4   2016    26 non-null     int64 \n",
      " 5   2017    26 non-null     int64 \n",
      " 6   2018    26 non-null     int64 \n",
      " 7   2019    26 non-null     int64 \n",
      " 8   2020    26 non-null     int64 \n",
      " 9   2021    26 non-null     int64 \n",
      " 10  2022    26 non-null     int64 \n",
      " 11  2023    26 non-null     int64 \n",
      "dtypes: int64(11), object(1)\n",
      "memory usage: 2.6+ KB\n"
     ]
    }
   ],
   "source": [
    "df2.info()"
   ]
  },
  {
   "cell_type": "markdown",
   "id": "330f6177-a2ad-43fa-8ad6-8c8b4528576f",
   "metadata": {},
   "source": [
    "## as we can see all string (number) values have changed to int datatype"
   ]
  },
  {
   "cell_type": "markdown",
   "id": "18d69107-262a-4530-a557-2ab069b9a323",
   "metadata": {},
   "source": [
    "## checking null values"
   ]
  },
  {
   "cell_type": "code",
   "execution_count": 9,
   "id": "c6f09da1-648e-4878-8bc8-edf53e495a74",
   "metadata": {},
   "outputs": [],
   "source": [
    "df3 = df2.copy()"
   ]
  },
  {
   "cell_type": "code",
   "execution_count": 10,
   "id": "39ad091c-65e7-49a2-a64c-73f05854f429",
   "metadata": {},
   "outputs": [
    {
     "data": {
      "text/plain": [
       "County    0\n",
       "2013      0\n",
       "2014      0\n",
       "2015      0\n",
       "2016      0\n",
       "2017      0\n",
       "2018      0\n",
       "2019      0\n",
       "2020      0\n",
       "2021      0\n",
       "2022      0\n",
       "2023      0\n",
       "dtype: int64"
      ]
     },
     "execution_count": 10,
     "metadata": {},
     "output_type": "execute_result"
    }
   ],
   "source": [
    "df3.isna().sum()"
   ]
  },
  {
   "cell_type": "markdown",
   "id": "b6ad47ca-fb4b-4046-9e78-39d66438f98d",
   "metadata": {},
   "source": [
    "## no null values lets check descriptives of years of enrollment"
   ]
  },
  {
   "cell_type": "code",
   "execution_count": 11,
   "id": "77b71fc6-3b22-436d-a0f3-f2b218c22a36",
   "metadata": {},
   "outputs": [
    {
     "data": {
      "text/html": [
       "<div>\n",
       "<style scoped>\n",
       "    .dataframe tbody tr th:only-of-type {\n",
       "        vertical-align: middle;\n",
       "    }\n",
       "\n",
       "    .dataframe tbody tr th {\n",
       "        vertical-align: top;\n",
       "    }\n",
       "\n",
       "    .dataframe thead th {\n",
       "        text-align: right;\n",
       "    }\n",
       "</style>\n",
       "<table border=\"1\" class=\"dataframe\">\n",
       "  <thead>\n",
       "    <tr style=\"text-align: right;\">\n",
       "      <th></th>\n",
       "      <th>2013</th>\n",
       "      <th>2014</th>\n",
       "      <th>2015</th>\n",
       "      <th>2016</th>\n",
       "      <th>2017</th>\n",
       "      <th>2018</th>\n",
       "      <th>2019</th>\n",
       "      <th>2020</th>\n",
       "      <th>2021</th>\n",
       "      <th>2022</th>\n",
       "      <th>2023</th>\n",
       "    </tr>\n",
       "  </thead>\n",
       "  <tbody>\n",
       "    <tr>\n",
       "      <th>count</th>\n",
       "      <td>26.000000</td>\n",
       "      <td>26.000000</td>\n",
       "      <td>26.000000</td>\n",
       "      <td>26.000000</td>\n",
       "      <td>26.000000</td>\n",
       "      <td>26.000000</td>\n",
       "      <td>26.000000</td>\n",
       "      <td>26.000000</td>\n",
       "      <td>26.000000</td>\n",
       "      <td>26.000000</td>\n",
       "      <td>26.000000</td>\n",
       "    </tr>\n",
       "    <tr>\n",
       "      <th>mean</th>\n",
       "      <td>34348.461538</td>\n",
       "      <td>35400.000000</td>\n",
       "      <td>36505.461538</td>\n",
       "      <td>36818.307692</td>\n",
       "      <td>37253.615385</td>\n",
       "      <td>37016.153846</td>\n",
       "      <td>37071.461538</td>\n",
       "      <td>37350.000000</td>\n",
       "      <td>36728.153846</td>\n",
       "      <td>35230.230769</td>\n",
       "      <td>34972.307692</td>\n",
       "    </tr>\n",
       "    <tr>\n",
       "      <th>std</th>\n",
       "      <td>84895.742238</td>\n",
       "      <td>87475.352783</td>\n",
       "      <td>90197.139258</td>\n",
       "      <td>90947.606781</td>\n",
       "      <td>92010.117494</td>\n",
       "      <td>91415.047849</td>\n",
       "      <td>91558.015699</td>\n",
       "      <td>92280.972922</td>\n",
       "      <td>90782.478012</td>\n",
       "      <td>87119.460880</td>\n",
       "      <td>86527.054932</td>\n",
       "    </tr>\n",
       "    <tr>\n",
       "      <th>min</th>\n",
       "      <td>527.000000</td>\n",
       "      <td>509.000000</td>\n",
       "      <td>487.000000</td>\n",
       "      <td>432.000000</td>\n",
       "      <td>509.000000</td>\n",
       "      <td>412.000000</td>\n",
       "      <td>455.000000</td>\n",
       "      <td>26.000000</td>\n",
       "      <td>254.000000</td>\n",
       "      <td>403.000000</td>\n",
       "      <td>338.000000</td>\n",
       "    </tr>\n",
       "    <tr>\n",
       "      <th>25%</th>\n",
       "      <td>8507.500000</td>\n",
       "      <td>8801.250000</td>\n",
       "      <td>9241.500000</td>\n",
       "      <td>9327.500000</td>\n",
       "      <td>9383.000000</td>\n",
       "      <td>9454.250000</td>\n",
       "      <td>9140.250000</td>\n",
       "      <td>8540.500000</td>\n",
       "      <td>7893.500000</td>\n",
       "      <td>7219.500000</td>\n",
       "      <td>7053.000000</td>\n",
       "    </tr>\n",
       "    <tr>\n",
       "      <th>50%</th>\n",
       "      <td>17377.000000</td>\n",
       "      <td>18119.500000</td>\n",
       "      <td>18622.000000</td>\n",
       "      <td>19162.000000</td>\n",
       "      <td>19125.000000</td>\n",
       "      <td>18730.500000</td>\n",
       "      <td>18669.000000</td>\n",
       "      <td>18583.500000</td>\n",
       "      <td>18049.000000</td>\n",
       "      <td>17499.000000</td>\n",
       "      <td>16404.500000</td>\n",
       "    </tr>\n",
       "    <tr>\n",
       "      <th>75%</th>\n",
       "      <td>29631.500000</td>\n",
       "      <td>29436.000000</td>\n",
       "      <td>30277.000000</td>\n",
       "      <td>30143.750000</td>\n",
       "      <td>30397.500000</td>\n",
       "      <td>30744.750000</td>\n",
       "      <td>30587.000000</td>\n",
       "      <td>31014.250000</td>\n",
       "      <td>30955.500000</td>\n",
       "      <td>29955.500000</td>\n",
       "      <td>29248.500000</td>\n",
       "    </tr>\n",
       "    <tr>\n",
       "      <th>max</th>\n",
       "      <td>446530.000000</td>\n",
       "      <td>460200.000000</td>\n",
       "      <td>474571.000000</td>\n",
       "      <td>478638.000000</td>\n",
       "      <td>484297.000000</td>\n",
       "      <td>481210.000000</td>\n",
       "      <td>481929.000000</td>\n",
       "      <td>485550.000000</td>\n",
       "      <td>477466.000000</td>\n",
       "      <td>457993.000000</td>\n",
       "      <td>454640.000000</td>\n",
       "    </tr>\n",
       "  </tbody>\n",
       "</table>\n",
       "</div>"
      ],
      "text/plain": [
       "                2013           2014           2015           2016  \\\n",
       "count      26.000000      26.000000      26.000000      26.000000   \n",
       "mean    34348.461538   35400.000000   36505.461538   36818.307692   \n",
       "std     84895.742238   87475.352783   90197.139258   90947.606781   \n",
       "min       527.000000     509.000000     487.000000     432.000000   \n",
       "25%      8507.500000    8801.250000    9241.500000    9327.500000   \n",
       "50%     17377.000000   18119.500000   18622.000000   19162.000000   \n",
       "75%     29631.500000   29436.000000   30277.000000   30143.750000   \n",
       "max    446530.000000  460200.000000  474571.000000  478638.000000   \n",
       "\n",
       "                2017           2018           2019           2020  \\\n",
       "count      26.000000      26.000000      26.000000      26.000000   \n",
       "mean    37253.615385   37016.153846   37071.461538   37350.000000   \n",
       "std     92010.117494   91415.047849   91558.015699   92280.972922   \n",
       "min       509.000000     412.000000     455.000000      26.000000   \n",
       "25%      9383.000000    9454.250000    9140.250000    8540.500000   \n",
       "50%     19125.000000   18730.500000   18669.000000   18583.500000   \n",
       "75%     30397.500000   30744.750000   30587.000000   31014.250000   \n",
       "max    484297.000000  481210.000000  481929.000000  485550.000000   \n",
       "\n",
       "                2021           2022           2023  \n",
       "count      26.000000      26.000000      26.000000  \n",
       "mean    36728.153846   35230.230769   34972.307692  \n",
       "std     90782.478012   87119.460880   86527.054932  \n",
       "min       254.000000     403.000000     338.000000  \n",
       "25%      7893.500000    7219.500000    7053.000000  \n",
       "50%     18049.000000   17499.000000   16404.500000  \n",
       "75%     30955.500000   29955.500000   29248.500000  \n",
       "max    477466.000000  457993.000000  454640.000000  "
      ]
     },
     "execution_count": 11,
     "metadata": {},
     "output_type": "execute_result"
    }
   ],
   "source": [
    "df4 = df3.copy()\n",
    "df4.describe()"
   ]
  },
  {
   "cell_type": "markdown",
   "id": "44b84835-b1db-44bb-8ae2-8a506cb6302d",
   "metadata": {},
   "source": [
    "#### as we can see the average enrollment of students in CSU had a steady increase from 2013 to 2020 but after that there was a downfall in the students enrolling into CSU. Probably COVID may be one of the reasons   "
   ]
  },
  {
   "cell_type": "markdown",
   "id": "1cc7668d-c9ce-4e8c-8885-17772126f21b",
   "metadata": {},
   "source": [
    "## now same we will do based on region"
   ]
  },
  {
   "cell_type": "code",
   "execution_count": 12,
   "id": "675f9810-ec1a-4acc-976a-edc301b0699f",
   "metadata": {},
   "outputs": [
    {
     "data": {
      "text/html": [
       "<div>\n",
       "<style scoped>\n",
       "    .dataframe tbody tr th:only-of-type {\n",
       "        vertical-align: middle;\n",
       "    }\n",
       "\n",
       "    .dataframe tbody tr th {\n",
       "        vertical-align: top;\n",
       "    }\n",
       "\n",
       "    .dataframe thead th {\n",
       "        text-align: right;\n",
       "    }\n",
       "</style>\n",
       "<table border=\"1\" class=\"dataframe\">\n",
       "  <thead>\n",
       "    <tr style=\"text-align: right;\">\n",
       "      <th></th>\n",
       "      <th>2013</th>\n",
       "      <th>2014</th>\n",
       "      <th>2015</th>\n",
       "      <th>2016</th>\n",
       "      <th>2017</th>\n",
       "      <th>2018</th>\n",
       "      <th>2019</th>\n",
       "      <th>2020</th>\n",
       "      <th>2021</th>\n",
       "      <th>2022</th>\n",
       "      <th>2023</th>\n",
       "    </tr>\n",
       "    <tr>\n",
       "      <th>County</th>\n",
       "      <th></th>\n",
       "      <th></th>\n",
       "      <th></th>\n",
       "      <th></th>\n",
       "      <th></th>\n",
       "      <th></th>\n",
       "      <th></th>\n",
       "      <th></th>\n",
       "      <th></th>\n",
       "      <th></th>\n",
       "      <th></th>\n",
       "    </tr>\n",
       "  </thead>\n",
       "  <tbody>\n",
       "    <tr>\n",
       "      <th>Bakersfield</th>\n",
       "      <td>8371</td>\n",
       "      <td>8720</td>\n",
       "      <td>9228</td>\n",
       "      <td>9341</td>\n",
       "      <td>9863</td>\n",
       "      <td>10493</td>\n",
       "      <td>11199</td>\n",
       "      <td>11397</td>\n",
       "      <td>10624</td>\n",
       "      <td>9261</td>\n",
       "      <td>9399</td>\n",
       "    </tr>\n",
       "    <tr>\n",
       "      <th>Channel Islands</th>\n",
       "      <td>5140</td>\n",
       "      <td>5879</td>\n",
       "      <td>6167</td>\n",
       "      <td>6611</td>\n",
       "      <td>7053</td>\n",
       "      <td>7095</td>\n",
       "      <td>7093</td>\n",
       "      <td>6943</td>\n",
       "      <td>6437</td>\n",
       "      <td>5643</td>\n",
       "      <td>5127</td>\n",
       "    </tr>\n",
       "    <tr>\n",
       "      <th>Chico</th>\n",
       "      <td>16356</td>\n",
       "      <td>17287</td>\n",
       "      <td>17220</td>\n",
       "      <td>17557</td>\n",
       "      <td>17789</td>\n",
       "      <td>17488</td>\n",
       "      <td>17019</td>\n",
       "      <td>16630</td>\n",
       "      <td>15421</td>\n",
       "      <td>13840</td>\n",
       "      <td>13999</td>\n",
       "    </tr>\n",
       "    <tr>\n",
       "      <th>Dominguez Hills</th>\n",
       "      <td>14670</td>\n",
       "      <td>14687</td>\n",
       "      <td>14635</td>\n",
       "      <td>14731</td>\n",
       "      <td>15179</td>\n",
       "      <td>15741</td>\n",
       "      <td>17027</td>\n",
       "      <td>17763</td>\n",
       "      <td>16916</td>\n",
       "      <td>15530</td>\n",
       "      <td>14299</td>\n",
       "    </tr>\n",
       "    <tr>\n",
       "      <th>East Bay</th>\n",
       "      <td>14526</td>\n",
       "      <td>14823</td>\n",
       "      <td>15528</td>\n",
       "      <td>15855</td>\n",
       "      <td>15435</td>\n",
       "      <td>14525</td>\n",
       "      <td>14705</td>\n",
       "      <td>14641</td>\n",
       "      <td>13499</td>\n",
       "      <td>12080</td>\n",
       "      <td>11771</td>\n",
       "    </tr>\n",
       "  </tbody>\n",
       "</table>\n",
       "</div>"
      ],
      "text/plain": [
       "                  2013   2014   2015   2016   2017   2018   2019   2020  \\\n",
       "County                                                                    \n",
       "Bakersfield       8371   8720   9228   9341   9863  10493  11199  11397   \n",
       "Channel Islands   5140   5879   6167   6611   7053   7095   7093   6943   \n",
       "Chico            16356  17287  17220  17557  17789  17488  17019  16630   \n",
       "Dominguez Hills  14670  14687  14635  14731  15179  15741  17027  17763   \n",
       "East Bay         14526  14823  15528  15855  15435  14525  14705  14641   \n",
       "\n",
       "                  2021   2022   2023  \n",
       "County                                \n",
       "Bakersfield      10624   9261   9399  \n",
       "Channel Islands   6437   5643   5127  \n",
       "Chico            15421  13840  13999  \n",
       "Dominguez Hills  16916  15530  14299  \n",
       "East Bay         13499  12080  11771  "
      ]
     },
     "execution_count": 12,
     "metadata": {},
     "output_type": "execute_result"
    }
   ],
   "source": [
    "df4.set_index('County',inplace=True)\n",
    "df4.head()"
   ]
  },
  {
   "cell_type": "code",
   "execution_count": 13,
   "id": "57fa95dc-154a-4df7-9cb5-c0542c3e905e",
   "metadata": {},
   "outputs": [
    {
     "data": {
      "text/html": [
       "<div>\n",
       "<style scoped>\n",
       "    .dataframe tbody tr th:only-of-type {\n",
       "        vertical-align: middle;\n",
       "    }\n",
       "\n",
       "    .dataframe tbody tr th {\n",
       "        vertical-align: top;\n",
       "    }\n",
       "\n",
       "    .dataframe thead th {\n",
       "        text-align: right;\n",
       "    }\n",
       "</style>\n",
       "<table border=\"1\" class=\"dataframe\">\n",
       "  <thead>\n",
       "    <tr style=\"text-align: right;\">\n",
       "      <th>County</th>\n",
       "      <th>Bakersfield</th>\n",
       "      <th>Channel Islands</th>\n",
       "      <th>Chico</th>\n",
       "      <th>Dominguez Hills</th>\n",
       "      <th>East Bay</th>\n",
       "      <th>Fresno</th>\n",
       "      <th>Fullerton</th>\n",
       "      <th>Humboldt</th>\n",
       "      <th>Long Beach</th>\n",
       "      <th>Los Angeles</th>\n",
       "      <th>...</th>\n",
       "      <th>San Diego</th>\n",
       "      <th>San Francisco</th>\n",
       "      <th>San Jose</th>\n",
       "      <th>San Luis Obispo</th>\n",
       "      <th>San Marcos</th>\n",
       "      <th>Sonoma</th>\n",
       "      <th>Stanislaus</th>\n",
       "      <th>CalStateTEACH</th>\n",
       "      <th>International Program</th>\n",
       "      <th>Grand Total</th>\n",
       "    </tr>\n",
       "  </thead>\n",
       "  <tbody>\n",
       "    <tr>\n",
       "      <th>count</th>\n",
       "      <td>11.000000</td>\n",
       "      <td>11.000000</td>\n",
       "      <td>11.000000</td>\n",
       "      <td>11.000000</td>\n",
       "      <td>11.000000</td>\n",
       "      <td>11.000000</td>\n",
       "      <td>11.000000</td>\n",
       "      <td>11.000000</td>\n",
       "      <td>11.000000</td>\n",
       "      <td>11.000000</td>\n",
       "      <td>...</td>\n",
       "      <td>11.000000</td>\n",
       "      <td>11.000000</td>\n",
       "      <td>11.000000</td>\n",
       "      <td>11.000000</td>\n",
       "      <td>11.000000</td>\n",
       "      <td>11.000000</td>\n",
       "      <td>11.000000</td>\n",
       "      <td>11.000000</td>\n",
       "      <td>11.000000</td>\n",
       "      <td>11.000000</td>\n",
       "    </tr>\n",
       "    <tr>\n",
       "      <th>mean</th>\n",
       "      <td>9808.727273</td>\n",
       "      <td>6289.818182</td>\n",
       "      <td>16418.727273</td>\n",
       "      <td>15561.636364</td>\n",
       "      <td>14308.000000</td>\n",
       "      <td>24284.545455</td>\n",
       "      <td>39842.454545</td>\n",
       "      <td>7379.909091</td>\n",
       "      <td>37835.909091</td>\n",
       "      <td>26329.363636</td>\n",
       "      <td>...</td>\n",
       "      <td>35041.727273</td>\n",
       "      <td>28107.727273</td>\n",
       "      <td>32724.636364</td>\n",
       "      <td>21432.090909</td>\n",
       "      <td>13532.818182</td>\n",
       "      <td>8322.818182</td>\n",
       "      <td>9798.545455</td>\n",
       "      <td>891.636364</td>\n",
       "      <td>395.636364</td>\n",
       "      <td>471184.000000</td>\n",
       "    </tr>\n",
       "    <tr>\n",
       "      <th>std</th>\n",
       "      <td>993.357649</td>\n",
       "      <td>755.234377</td>\n",
       "      <td>1400.780646</td>\n",
       "      <td>1170.898909</td>\n",
       "      <td>1335.473998</td>\n",
       "      <td>771.334346</td>\n",
       "      <td>1062.162075</td>\n",
       "      <td>1201.371671</td>\n",
       "      <td>1258.381457</td>\n",
       "      <td>1604.829291</td>\n",
       "      <td>...</td>\n",
       "      <td>1341.622308</td>\n",
       "      <td>2183.518724</td>\n",
       "      <td>699.571622</td>\n",
       "      <td>864.371385</td>\n",
       "      <td>1094.597078</td>\n",
       "      <td>1281.802779</td>\n",
       "      <td>597.123834</td>\n",
       "      <td>117.888314</td>\n",
       "      <td>147.135497</td>\n",
       "      <td>13700.292785</td>\n",
       "    </tr>\n",
       "    <tr>\n",
       "      <th>min</th>\n",
       "      <td>8371.000000</td>\n",
       "      <td>5127.000000</td>\n",
       "      <td>13840.000000</td>\n",
       "      <td>14299.000000</td>\n",
       "      <td>11771.000000</td>\n",
       "      <td>23060.000000</td>\n",
       "      <td>38128.000000</td>\n",
       "      <td>5739.000000</td>\n",
       "      <td>35586.000000</td>\n",
       "      <td>23258.000000</td>\n",
       "      <td>...</td>\n",
       "      <td>32759.000000</td>\n",
       "      <td>23700.000000</td>\n",
       "      <td>31278.000000</td>\n",
       "      <td>19703.000000</td>\n",
       "      <td>11300.000000</td>\n",
       "      <td>5865.000000</td>\n",
       "      <td>8917.000000</td>\n",
       "      <td>638.000000</td>\n",
       "      <td>26.000000</td>\n",
       "      <td>446530.000000</td>\n",
       "    </tr>\n",
       "    <tr>\n",
       "      <th>25%</th>\n",
       "      <td>9244.500000</td>\n",
       "      <td>5761.000000</td>\n",
       "      <td>15888.500000</td>\n",
       "      <td>14678.500000</td>\n",
       "      <td>14012.000000</td>\n",
       "      <td>23880.500000</td>\n",
       "      <td>39338.500000</td>\n",
       "      <td>6203.500000</td>\n",
       "      <td>36955.500000</td>\n",
       "      <td>25350.000000</td>\n",
       "      <td>...</td>\n",
       "      <td>34471.000000</td>\n",
       "      <td>26847.500000</td>\n",
       "      <td>32330.500000</td>\n",
       "      <td>21093.000000</td>\n",
       "      <td>12968.500000</td>\n",
       "      <td>7494.500000</td>\n",
       "      <td>9361.000000</td>\n",
       "      <td>846.000000</td>\n",
       "      <td>370.500000</td>\n",
       "      <td>459096.500000</td>\n",
       "    </tr>\n",
       "    <tr>\n",
       "      <th>50%</th>\n",
       "      <td>9399.000000</td>\n",
       "      <td>6437.000000</td>\n",
       "      <td>17019.000000</td>\n",
       "      <td>15179.000000</td>\n",
       "      <td>14641.000000</td>\n",
       "      <td>24139.000000</td>\n",
       "      <td>39868.000000</td>\n",
       "      <td>7774.000000</td>\n",
       "      <td>37776.000000</td>\n",
       "      <td>26361.000000</td>\n",
       "      <td>...</td>\n",
       "      <td>34881.000000</td>\n",
       "      <td>29045.000000</td>\n",
       "      <td>32773.000000</td>\n",
       "      <td>21778.000000</td>\n",
       "      <td>13893.000000</td>\n",
       "      <td>9120.000000</td>\n",
       "      <td>9762.000000</td>\n",
       "      <td>869.000000</td>\n",
       "      <td>432.000000</td>\n",
       "      <td>477466.000000</td>\n",
       "    </tr>\n",
       "    <tr>\n",
       "      <th>75%</th>\n",
       "      <td>10558.500000</td>\n",
       "      <td>6998.000000</td>\n",
       "      <td>17387.500000</td>\n",
       "      <td>16328.500000</td>\n",
       "      <td>15129.000000</td>\n",
       "      <td>24970.500000</td>\n",
       "      <td>40337.000000</td>\n",
       "      <td>8416.000000</td>\n",
       "      <td>38814.500000</td>\n",
       "      <td>27682.500000</td>\n",
       "      <td>...</td>\n",
       "      <td>35655.000000</td>\n",
       "      <td>29596.500000</td>\n",
       "      <td>33153.500000</td>\n",
       "      <td>22108.000000</td>\n",
       "      <td>14507.000000</td>\n",
       "      <td>9256.500000</td>\n",
       "      <td>10121.000000</td>\n",
       "      <td>975.500000</td>\n",
       "      <td>498.000000</td>\n",
       "      <td>481569.500000</td>\n",
       "    </tr>\n",
       "    <tr>\n",
       "      <th>max</th>\n",
       "      <td>11397.000000</td>\n",
       "      <td>7095.000000</td>\n",
       "      <td>17789.000000</td>\n",
       "      <td>17763.000000</td>\n",
       "      <td>15855.000000</td>\n",
       "      <td>25341.000000</td>\n",
       "      <td>41408.000000</td>\n",
       "      <td>8790.000000</td>\n",
       "      <td>39530.000000</td>\n",
       "      <td>28253.000000</td>\n",
       "      <td>...</td>\n",
       "      <td>37538.000000</td>\n",
       "      <td>30256.000000</td>\n",
       "      <td>33848.000000</td>\n",
       "      <td>22287.000000</td>\n",
       "      <td>14643.000000</td>\n",
       "      <td>9408.000000</td>\n",
       "      <td>10741.000000</td>\n",
       "      <td>1043.000000</td>\n",
       "      <td>527.000000</td>\n",
       "      <td>485550.000000</td>\n",
       "    </tr>\n",
       "  </tbody>\n",
       "</table>\n",
       "<p>8 rows × 26 columns</p>\n",
       "</div>"
      ],
      "text/plain": [
       "County   Bakersfield  Channel Islands         Chico  Dominguez Hills  \\\n",
       "count      11.000000        11.000000     11.000000        11.000000   \n",
       "mean     9808.727273      6289.818182  16418.727273     15561.636364   \n",
       "std       993.357649       755.234377   1400.780646      1170.898909   \n",
       "min      8371.000000      5127.000000  13840.000000     14299.000000   \n",
       "25%      9244.500000      5761.000000  15888.500000     14678.500000   \n",
       "50%      9399.000000      6437.000000  17019.000000     15179.000000   \n",
       "75%     10558.500000      6998.000000  17387.500000     16328.500000   \n",
       "max     11397.000000      7095.000000  17789.000000     17763.000000   \n",
       "\n",
       "County      East Bay        Fresno     Fullerton     Humboldt    Long Beach  \\\n",
       "count      11.000000     11.000000     11.000000    11.000000     11.000000   \n",
       "mean    14308.000000  24284.545455  39842.454545  7379.909091  37835.909091   \n",
       "std      1335.473998    771.334346   1062.162075  1201.371671   1258.381457   \n",
       "min     11771.000000  23060.000000  38128.000000  5739.000000  35586.000000   \n",
       "25%     14012.000000  23880.500000  39338.500000  6203.500000  36955.500000   \n",
       "50%     14641.000000  24139.000000  39868.000000  7774.000000  37776.000000   \n",
       "75%     15129.000000  24970.500000  40337.000000  8416.000000  38814.500000   \n",
       "max     15855.000000  25341.000000  41408.000000  8790.000000  39530.000000   \n",
       "\n",
       "County   Los Angeles  ...     San Diego  San Francisco      San Jose  \\\n",
       "count      11.000000  ...     11.000000      11.000000     11.000000   \n",
       "mean    26329.363636  ...  35041.727273   28107.727273  32724.636364   \n",
       "std      1604.829291  ...   1341.622308    2183.518724    699.571622   \n",
       "min     23258.000000  ...  32759.000000   23700.000000  31278.000000   \n",
       "25%     25350.000000  ...  34471.000000   26847.500000  32330.500000   \n",
       "50%     26361.000000  ...  34881.000000   29045.000000  32773.000000   \n",
       "75%     27682.500000  ...  35655.000000   29596.500000  33153.500000   \n",
       "max     28253.000000  ...  37538.000000   30256.000000  33848.000000   \n",
       "\n",
       "County  San Luis Obispo    San Marcos       Sonoma    Stanislaus  \\\n",
       "count         11.000000     11.000000    11.000000     11.000000   \n",
       "mean       21432.090909  13532.818182  8322.818182   9798.545455   \n",
       "std          864.371385   1094.597078  1281.802779    597.123834   \n",
       "min        19703.000000  11300.000000  5865.000000   8917.000000   \n",
       "25%        21093.000000  12968.500000  7494.500000   9361.000000   \n",
       "50%        21778.000000  13893.000000  9120.000000   9762.000000   \n",
       "75%        22108.000000  14507.000000  9256.500000  10121.000000   \n",
       "max        22287.000000  14643.000000  9408.000000  10741.000000   \n",
       "\n",
       "County  CalStateTEACH  International Program    Grand Total  \n",
       "count       11.000000              11.000000      11.000000  \n",
       "mean       891.636364             395.636364  471184.000000  \n",
       "std        117.888314             147.135497   13700.292785  \n",
       "min        638.000000              26.000000  446530.000000  \n",
       "25%        846.000000             370.500000  459096.500000  \n",
       "50%        869.000000             432.000000  477466.000000  \n",
       "75%        975.500000             498.000000  481569.500000  \n",
       "max       1043.000000             527.000000  485550.000000  \n",
       "\n",
       "[8 rows x 26 columns]"
      ]
     },
     "execution_count": 13,
     "metadata": {},
     "output_type": "execute_result"
    }
   ],
   "source": [
    "transpose_df = df4.transpose()\n",
    "transpose_df.describe()"
   ]
  },
  {
   "cell_type": "code",
   "execution_count": 14,
   "id": "73f9193d-92fc-47b1-b623-27486e3cb42d",
   "metadata": {},
   "outputs": [
    {
     "data": {
      "text/html": [
       "<div>\n",
       "<style scoped>\n",
       "    .dataframe tbody tr th:only-of-type {\n",
       "        vertical-align: middle;\n",
       "    }\n",
       "\n",
       "    .dataframe tbody tr th {\n",
       "        vertical-align: top;\n",
       "    }\n",
       "\n",
       "    .dataframe thead th {\n",
       "        text-align: right;\n",
       "    }\n",
       "</style>\n",
       "<table border=\"1\" class=\"dataframe\">\n",
       "  <thead>\n",
       "    <tr style=\"text-align: right;\">\n",
       "      <th></th>\n",
       "      <th>2013</th>\n",
       "      <th>2014</th>\n",
       "      <th>2015</th>\n",
       "      <th>2016</th>\n",
       "      <th>2017</th>\n",
       "      <th>2018</th>\n",
       "      <th>2019</th>\n",
       "      <th>2020</th>\n",
       "      <th>2021</th>\n",
       "      <th>2022</th>\n",
       "      <th>2023</th>\n",
       "    </tr>\n",
       "    <tr>\n",
       "      <th>County</th>\n",
       "      <th></th>\n",
       "      <th></th>\n",
       "      <th></th>\n",
       "      <th></th>\n",
       "      <th></th>\n",
       "      <th></th>\n",
       "      <th></th>\n",
       "      <th></th>\n",
       "      <th></th>\n",
       "      <th></th>\n",
       "      <th></th>\n",
       "    </tr>\n",
       "  </thead>\n",
       "  <tbody>\n",
       "    <tr>\n",
       "      <th>Sonoma</th>\n",
       "      <td>9120</td>\n",
       "      <td>9290</td>\n",
       "      <td>9408</td>\n",
       "      <td>9323</td>\n",
       "      <td>9223</td>\n",
       "      <td>9201</td>\n",
       "      <td>8649</td>\n",
       "      <td>7807</td>\n",
       "      <td>7182</td>\n",
       "      <td>6483</td>\n",
       "      <td>5865</td>\n",
       "    </tr>\n",
       "    <tr>\n",
       "      <th>Stanislaus</th>\n",
       "      <td>8917</td>\n",
       "      <td>9045</td>\n",
       "      <td>9282</td>\n",
       "      <td>9762</td>\n",
       "      <td>10003</td>\n",
       "      <td>10214</td>\n",
       "      <td>10614</td>\n",
       "      <td>10741</td>\n",
       "      <td>10028</td>\n",
       "      <td>9738</td>\n",
       "      <td>9440</td>\n",
       "    </tr>\n",
       "    <tr>\n",
       "      <th>CalStateTEACH</th>\n",
       "      <td>638</td>\n",
       "      <td>794</td>\n",
       "      <td>846</td>\n",
       "      <td>1043</td>\n",
       "      <td>1033</td>\n",
       "      <td>990</td>\n",
       "      <td>933</td>\n",
       "      <td>961</td>\n",
       "      <td>855</td>\n",
       "      <td>846</td>\n",
       "      <td>869</td>\n",
       "    </tr>\n",
       "    <tr>\n",
       "      <th>International Program</th>\n",
       "      <td>527</td>\n",
       "      <td>509</td>\n",
       "      <td>487</td>\n",
       "      <td>432</td>\n",
       "      <td>509</td>\n",
       "      <td>412</td>\n",
       "      <td>455</td>\n",
       "      <td>26</td>\n",
       "      <td>254</td>\n",
       "      <td>403</td>\n",
       "      <td>338</td>\n",
       "    </tr>\n",
       "    <tr>\n",
       "      <th>Grand Total</th>\n",
       "      <td>446530</td>\n",
       "      <td>460200</td>\n",
       "      <td>474571</td>\n",
       "      <td>478638</td>\n",
       "      <td>484297</td>\n",
       "      <td>481210</td>\n",
       "      <td>481929</td>\n",
       "      <td>485550</td>\n",
       "      <td>477466</td>\n",
       "      <td>457993</td>\n",
       "      <td>454640</td>\n",
       "    </tr>\n",
       "  </tbody>\n",
       "</table>\n",
       "</div>"
      ],
      "text/plain": [
       "                         2013    2014    2015    2016    2017    2018    2019  \\\n",
       "County                                                                          \n",
       "Sonoma                   9120    9290    9408    9323    9223    9201    8649   \n",
       "Stanislaus               8917    9045    9282    9762   10003   10214   10614   \n",
       "CalStateTEACH             638     794     846    1043    1033     990     933   \n",
       "International Program     527     509     487     432     509     412     455   \n",
       "Grand Total            446530  460200  474571  478638  484297  481210  481929   \n",
       "\n",
       "                         2020    2021    2022    2023  \n",
       "County                                                 \n",
       "Sonoma                   7807    7182    6483    5865  \n",
       "Stanislaus              10741   10028    9738    9440  \n",
       "CalStateTEACH             961     855     846     869  \n",
       "International Program      26     254     403     338  \n",
       "Grand Total            485550  477466  457993  454640  "
      ]
     },
     "execution_count": 14,
     "metadata": {},
     "output_type": "execute_result"
    }
   ],
   "source": [
    "df4.tail()"
   ]
  },
  {
   "cell_type": "code",
   "execution_count": 15,
   "id": "cd38e96d-1705-4488-bb4b-dac67d49e8dc",
   "metadata": {},
   "outputs": [],
   "source": [
    "df4.drop('Grand Total',inplace=True)"
   ]
  },
  {
   "cell_type": "code",
   "execution_count": 16,
   "id": "c642a43a-f4ed-4287-a6e6-d53d4a1018dc",
   "metadata": {},
   "outputs": [
    {
     "data": {
      "text/html": [
       "<div>\n",
       "<style scoped>\n",
       "    .dataframe tbody tr th:only-of-type {\n",
       "        vertical-align: middle;\n",
       "    }\n",
       "\n",
       "    .dataframe tbody tr th {\n",
       "        vertical-align: top;\n",
       "    }\n",
       "\n",
       "    .dataframe thead th {\n",
       "        text-align: right;\n",
       "    }\n",
       "</style>\n",
       "<table border=\"1\" class=\"dataframe\">\n",
       "  <thead>\n",
       "    <tr style=\"text-align: right;\">\n",
       "      <th></th>\n",
       "      <th>2013</th>\n",
       "      <th>2014</th>\n",
       "      <th>2015</th>\n",
       "      <th>2016</th>\n",
       "      <th>2017</th>\n",
       "      <th>2018</th>\n",
       "      <th>2019</th>\n",
       "      <th>2020</th>\n",
       "      <th>2021</th>\n",
       "      <th>2022</th>\n",
       "      <th>2023</th>\n",
       "    </tr>\n",
       "    <tr>\n",
       "      <th>County</th>\n",
       "      <th></th>\n",
       "      <th></th>\n",
       "      <th></th>\n",
       "      <th></th>\n",
       "      <th></th>\n",
       "      <th></th>\n",
       "      <th></th>\n",
       "      <th></th>\n",
       "      <th></th>\n",
       "      <th></th>\n",
       "      <th></th>\n",
       "    </tr>\n",
       "  </thead>\n",
       "  <tbody>\n",
       "    <tr>\n",
       "      <th>San Marcos</th>\n",
       "      <td>11300</td>\n",
       "      <td>12154</td>\n",
       "      <td>12793</td>\n",
       "      <td>13144</td>\n",
       "      <td>13893</td>\n",
       "      <td>14511</td>\n",
       "      <td>14519</td>\n",
       "      <td>14643</td>\n",
       "      <td>14503</td>\n",
       "      <td>13469</td>\n",
       "      <td>13932</td>\n",
       "    </tr>\n",
       "    <tr>\n",
       "      <th>Sonoma</th>\n",
       "      <td>9120</td>\n",
       "      <td>9290</td>\n",
       "      <td>9408</td>\n",
       "      <td>9323</td>\n",
       "      <td>9223</td>\n",
       "      <td>9201</td>\n",
       "      <td>8649</td>\n",
       "      <td>7807</td>\n",
       "      <td>7182</td>\n",
       "      <td>6483</td>\n",
       "      <td>5865</td>\n",
       "    </tr>\n",
       "    <tr>\n",
       "      <th>Stanislaus</th>\n",
       "      <td>8917</td>\n",
       "      <td>9045</td>\n",
       "      <td>9282</td>\n",
       "      <td>9762</td>\n",
       "      <td>10003</td>\n",
       "      <td>10214</td>\n",
       "      <td>10614</td>\n",
       "      <td>10741</td>\n",
       "      <td>10028</td>\n",
       "      <td>9738</td>\n",
       "      <td>9440</td>\n",
       "    </tr>\n",
       "    <tr>\n",
       "      <th>CalStateTEACH</th>\n",
       "      <td>638</td>\n",
       "      <td>794</td>\n",
       "      <td>846</td>\n",
       "      <td>1043</td>\n",
       "      <td>1033</td>\n",
       "      <td>990</td>\n",
       "      <td>933</td>\n",
       "      <td>961</td>\n",
       "      <td>855</td>\n",
       "      <td>846</td>\n",
       "      <td>869</td>\n",
       "    </tr>\n",
       "    <tr>\n",
       "      <th>International Program</th>\n",
       "      <td>527</td>\n",
       "      <td>509</td>\n",
       "      <td>487</td>\n",
       "      <td>432</td>\n",
       "      <td>509</td>\n",
       "      <td>412</td>\n",
       "      <td>455</td>\n",
       "      <td>26</td>\n",
       "      <td>254</td>\n",
       "      <td>403</td>\n",
       "      <td>338</td>\n",
       "    </tr>\n",
       "  </tbody>\n",
       "</table>\n",
       "</div>"
      ],
      "text/plain": [
       "                        2013   2014   2015   2016   2017   2018   2019   2020  \\\n",
       "County                                                                          \n",
       "San Marcos             11300  12154  12793  13144  13893  14511  14519  14643   \n",
       "Sonoma                  9120   9290   9408   9323   9223   9201   8649   7807   \n",
       "Stanislaus              8917   9045   9282   9762  10003  10214  10614  10741   \n",
       "CalStateTEACH            638    794    846   1043   1033    990    933    961   \n",
       "International Program    527    509    487    432    509    412    455     26   \n",
       "\n",
       "                        2021   2022   2023  \n",
       "County                                      \n",
       "San Marcos             14503  13469  13932  \n",
       "Sonoma                  7182   6483   5865  \n",
       "Stanislaus             10028   9738   9440  \n",
       "CalStateTEACH            855    846    869  \n",
       "International Program    254    403    338  "
      ]
     },
     "execution_count": 16,
     "metadata": {},
     "output_type": "execute_result"
    }
   ],
   "source": [
    "df4.tail()"
   ]
  },
  {
   "cell_type": "markdown",
   "id": "2f0a0a49-0ba8-4940-93ab-2912e4aca16c",
   "metadata": {},
   "source": [
    "## maximum/minimum enrollment by year"
   ]
  },
  {
   "cell_type": "code",
   "execution_count": 17,
   "id": "f03fe1f9-27a9-4be4-b98a-529a64be3fc6",
   "metadata": {},
   "outputs": [
    {
     "data": {
      "text/plain": [
       "2013     Fullerton\n",
       "2014    Northridge\n",
       "2015    Northridge\n",
       "2016     Fullerton\n",
       "2017     Fullerton\n",
       "2018     Fullerton\n",
       "2019     Fullerton\n",
       "2020     Fullerton\n",
       "2021     Fullerton\n",
       "2022     Fullerton\n",
       "2023     Fullerton\n",
       "dtype: object"
      ]
     },
     "execution_count": 17,
     "metadata": {},
     "output_type": "execute_result"
    }
   ],
   "source": [
    "max_enrollment_year = df4.idxmax()\n",
    "max_enrollment_year"
   ]
  },
  {
   "cell_type": "code",
   "execution_count": 18,
   "id": "56b84635-dc64-4f7c-b0c6-dfca559a4014",
   "metadata": {},
   "outputs": [
    {
     "data": {
      "text/plain": [
       "2013    International Program\n",
       "2014    International Program\n",
       "2015    International Program\n",
       "2016    International Program\n",
       "2017    International Program\n",
       "2018    International Program\n",
       "2019    International Program\n",
       "2020    International Program\n",
       "2021    International Program\n",
       "2022    International Program\n",
       "2023    International Program\n",
       "dtype: object"
      ]
     },
     "execution_count": 18,
     "metadata": {},
     "output_type": "execute_result"
    }
   ],
   "source": [
    "min_enrollment_year = df4.idxmin()\n",
    "min_enrollment_year"
   ]
  },
  {
   "cell_type": "markdown",
   "id": "68620d8a-f610-438e-b3dc-f8bf7ff06de3",
   "metadata": {},
   "source": [
    "## so as we can see the Fullerton has more enrollments in recent years.\n",
    "May be there were several reasons students chose fullerton for their studies.\n",
    "And the minimum enrollments were in International Programs."
   ]
  },
  {
   "cell_type": "markdown",
   "id": "1d0772d5-93da-48d5-9f75-70c90a860ab2",
   "metadata": {},
   "source": [
    "## total number of students enrolled into CSU in all these years."
   ]
  },
  {
   "cell_type": "code",
   "execution_count": 43,
   "id": "a468e945-ff19-42fc-b6f2-fe06c112a2f6",
   "metadata": {},
   "outputs": [
    {
     "data": {
      "text/plain": [
       "2013    446530\n",
       "2014    460200\n",
       "2015    474571\n",
       "2016    478638\n",
       "2017    484297\n",
       "2018    481210\n",
       "2019    481929\n",
       "2020    485550\n",
       "2021    477466\n",
       "2022    457993\n",
       "2023    454640\n",
       "dtype: int64"
      ]
     },
     "execution_count": 43,
     "metadata": {},
     "output_type": "execute_result"
    }
   ],
   "source": [
    "total_enrollment_years = df4.sum(axis=0)\n",
    "total_enrollment_years"
   ]
  },
  {
   "cell_type": "code",
   "execution_count": 41,
   "id": "99283315-ae5f-4678-9d72-4982ab4a2ba2",
   "metadata": {},
   "outputs": [
    {
     "data": {
      "text/plain": [
       "Index(['2013', '2014', '2015', '2016', '2017', '2018', '2019', '2020', '2021',\n",
       "       '2022', '2023'],\n",
       "      dtype='object')"
      ]
     },
     "execution_count": 41,
     "metadata": {},
     "output_type": "execute_result"
    }
   ],
   "source": [
    "df4.columns"
   ]
  },
  {
   "cell_type": "code",
   "execution_count": 74,
   "id": "7eea8283-efda-4396-b132-a1c16c88b2b3",
   "metadata": {},
   "outputs": [
    {
     "data": {
      "image/png": "[encoded data removed]",
      "text/plain": [
       "<Figure size 600x600 with 1 Axes>"
      ]
     },
     "metadata": {},
     "output_type": "display_data"
    }
   ],
   "source": [
    "plt.figure(figsize=(6,6))\n",
    "\n",
    "sns.lineplot(data=total_enrollment_years,marker='o',color='green')\n",
    "plt.xlabel('Years', fontsize=10)\n",
    "plt.ylabel('HeadCount',fontsize=10)\n",
    "plt.title('Enrollment Count vs Years')\n",
    "plt.grid(True,linestyle='--',linewidth=0.7)\n",
    "plt.show()"
   ]
  },
  {
   "cell_type": "markdown",
   "id": "06092713-7bfc-462f-ad3e-bd0970711dc5",
   "metadata": {},
   "source": [
    "## From the above graph we can find out that there is a steady decrease after 2020 in the enrollment head count."
   ]
  },
  {
   "cell_type": "markdown",
   "id": "9c50e4a4-c372-48ee-b7af-0009866bd409",
   "metadata": {},
   "source": [
    "#### total enrollment by county"
   ]
  },
  {
   "cell_type": "code",
   "execution_count": 70,
   "id": "26acd705-1b5a-4aee-8cf0-964033fff763",
   "metadata": {
    "scrolled": true
   },
   "outputs": [
    {
     "data": {
      "text/plain": [
       "County\n",
       "Bakersfield              107896\n",
       "Channel Islands           69188\n",
       "Chico                    180606\n",
       "Dominguez Hills          171178\n",
       "East Bay                 157388\n",
       "Fresno                   267130\n",
       "Fullerton                438267\n",
       "Humboldt                  81179\n",
       "Long Beach               416195\n",
       "Los Angeles              289623\n",
       "Maritime                  10609\n",
       "Monterey Bay              74748\n",
       "Northridge               426685\n",
       "Pomona                   288156\n",
       "Sacramento               336002\n",
       "San Bernardino           215450\n",
       "San Diego                385459\n",
       "San Francisco            309185\n",
       "San Jose                 359971\n",
       "San Luis Obispo          235753\n",
       "San Marcos               148861\n",
       "Sonoma                    91551\n",
       "Stanislaus               107784\n",
       "CalStateTEACH              9808\n",
       "International Program      4352\n",
       "dtype: int64"
      ]
     },
     "execution_count": 70,
     "metadata": {},
     "output_type": "execute_result"
    }
   ],
   "source": [
    "total_enrollment_county = df4.sum(axis=1)\n",
    "total_enrollment_county"
   ]
  },
  {
   "cell_type": "code",
   "execution_count": 73,
   "id": "72898ad2-6f97-4413-b493-39f34fc5d7aa",
   "metadata": {
    "scrolled": true
   },
   "outputs": [
    {
     "data": {
      "image/png": "[encoded data removed]",
      "text/plain": [
       "<Figure size 640x480 with 1 Axes>"
      ]
     },
     "metadata": {},
     "output_type": "display_data"
    }
   ],
   "source": [
    "sns.lineplot(data=total_enrollment_county,marker='o')\n",
    "plt.grid(True,linestyle='--')\n",
    "plt.xlabel('County')\n",
    "plt.ylabel('HeadCount')\n",
    "plt.show()"
   ]
  },
  {
   "cell_type": "code",
   "execution_count": null,
   "id": "b0193b22-4f71-4a85-8288-344f8b8510e3",
   "metadata": {},
   "outputs": [],
   "source": []
  },
  {
   "cell_type": "markdown",
   "id": "661ae67c-414c-425f-a1c3-29898e19e117",
   "metadata": {},
   "source": [
    "# Correlation Analysis"
   ]
  },
  {
   "cell_type": "code",
   "execution_count": 57,
   "id": "2dade1df-68a7-4b40-9346-305c4c27dff8",
   "metadata": {},
   "outputs": [
    {
     "data": {
      "text/html": [
       "<div>\n",
       "<style scoped>\n",
       "    .dataframe tbody tr th:only-of-type {\n",
       "        vertical-align: middle;\n",
       "    }\n",
       "\n",
       "    .dataframe tbody tr th {\n",
       "        vertical-align: top;\n",
       "    }\n",
       "\n",
       "    .dataframe thead th {\n",
       "        text-align: right;\n",
       "    }\n",
       "</style>\n",
       "<table border=\"1\" class=\"dataframe\">\n",
       "  <thead>\n",
       "    <tr style=\"text-align: right;\">\n",
       "      <th></th>\n",
       "      <th>2013</th>\n",
       "      <th>2014</th>\n",
       "      <th>2015</th>\n",
       "      <th>2016</th>\n",
       "      <th>2017</th>\n",
       "      <th>2018</th>\n",
       "      <th>2019</th>\n",
       "      <th>2020</th>\n",
       "      <th>2021</th>\n",
       "      <th>2022</th>\n",
       "      <th>2023</th>\n",
       "    </tr>\n",
       "    <tr>\n",
       "      <th>County</th>\n",
       "      <th></th>\n",
       "      <th></th>\n",
       "      <th></th>\n",
       "      <th></th>\n",
       "      <th></th>\n",
       "      <th></th>\n",
       "      <th></th>\n",
       "      <th></th>\n",
       "      <th></th>\n",
       "      <th></th>\n",
       "      <th></th>\n",
       "    </tr>\n",
       "  </thead>\n",
       "  <tbody>\n",
       "    <tr>\n",
       "      <th>Bakersfield</th>\n",
       "      <td>8371</td>\n",
       "      <td>8720</td>\n",
       "      <td>9228</td>\n",
       "      <td>9341</td>\n",
       "      <td>9863</td>\n",
       "      <td>10493</td>\n",
       "      <td>11199</td>\n",
       "      <td>11397</td>\n",
       "      <td>10624</td>\n",
       "      <td>9261</td>\n",
       "      <td>9399</td>\n",
       "    </tr>\n",
       "    <tr>\n",
       "      <th>Channel Islands</th>\n",
       "      <td>5140</td>\n",
       "      <td>5879</td>\n",
       "      <td>6167</td>\n",
       "      <td>6611</td>\n",
       "      <td>7053</td>\n",
       "      <td>7095</td>\n",
       "      <td>7093</td>\n",
       "      <td>6943</td>\n",
       "      <td>6437</td>\n",
       "      <td>5643</td>\n",
       "      <td>5127</td>\n",
       "    </tr>\n",
       "    <tr>\n",
       "      <th>Chico</th>\n",
       "      <td>16356</td>\n",
       "      <td>17287</td>\n",
       "      <td>17220</td>\n",
       "      <td>17557</td>\n",
       "      <td>17789</td>\n",
       "      <td>17488</td>\n",
       "      <td>17019</td>\n",
       "      <td>16630</td>\n",
       "      <td>15421</td>\n",
       "      <td>13840</td>\n",
       "      <td>13999</td>\n",
       "    </tr>\n",
       "    <tr>\n",
       "      <th>Dominguez Hills</th>\n",
       "      <td>14670</td>\n",
       "      <td>14687</td>\n",
       "      <td>14635</td>\n",
       "      <td>14731</td>\n",
       "      <td>15179</td>\n",
       "      <td>15741</td>\n",
       "      <td>17027</td>\n",
       "      <td>17763</td>\n",
       "      <td>16916</td>\n",
       "      <td>15530</td>\n",
       "      <td>14299</td>\n",
       "    </tr>\n",
       "    <tr>\n",
       "      <th>East Bay</th>\n",
       "      <td>14526</td>\n",
       "      <td>14823</td>\n",
       "      <td>15528</td>\n",
       "      <td>15855</td>\n",
       "      <td>15435</td>\n",
       "      <td>14525</td>\n",
       "      <td>14705</td>\n",
       "      <td>14641</td>\n",
       "      <td>13499</td>\n",
       "      <td>12080</td>\n",
       "      <td>11771</td>\n",
       "    </tr>\n",
       "  </tbody>\n",
       "</table>\n",
       "</div>"
      ],
      "text/plain": [
       "                  2013   2014   2015   2016   2017   2018   2019   2020  \\\n",
       "County                                                                    \n",
       "Bakersfield       8371   8720   9228   9341   9863  10493  11199  11397   \n",
       "Channel Islands   5140   5879   6167   6611   7053   7095   7093   6943   \n",
       "Chico            16356  17287  17220  17557  17789  17488  17019  16630   \n",
       "Dominguez Hills  14670  14687  14635  14731  15179  15741  17027  17763   \n",
       "East Bay         14526  14823  15528  15855  15435  14525  14705  14641   \n",
       "\n",
       "                  2021   2022   2023  \n",
       "County                                \n",
       "Bakersfield      10624   9261   9399  \n",
       "Channel Islands   6437   5643   5127  \n",
       "Chico            15421  13840  13999  \n",
       "Dominguez Hills  16916  15530  14299  \n",
       "East Bay         13499  12080  11771  "
      ]
     },
     "execution_count": 57,
     "metadata": {},
     "output_type": "execute_result"
    }
   ],
   "source": [
    "df5 = df4.copy()\n",
    "df5.head()"
   ]
  },
  {
   "cell_type": "code",
   "execution_count": 60,
   "id": "7cbe5816-7bef-43c0-afc4-35f517c70fcc",
   "metadata": {},
   "outputs": [
    {
     "data": {
      "text/plain": [
       "Index(['Bakersfield', 'Channel Islands', 'Chico', 'Dominguez Hills',\n",
       "       'East Bay', 'Fresno', 'Fullerton', 'Humboldt', 'Long Beach',\n",
       "       'Los Angeles', 'Maritime', 'Monterey Bay', 'Northridge', 'Pomona',\n",
       "       'Sacramento', 'San Bernardino', 'San Diego', 'San Francisco',\n",
       "       'San Jose', 'San Luis Obispo', 'San Marcos', 'Sonoma', 'Stanislaus',\n",
       "       'CalStateTEACH', 'International Program'],\n",
       "      dtype='object', name='County')"
      ]
     },
     "execution_count": 60,
     "metadata": {},
     "output_type": "execute_result"
    }
   ],
   "source": [
    "df5.index"
   ]
  },
  {
   "cell_type": "code",
   "execution_count": 62,
   "id": "a9020398-34b2-4b3c-9edb-667897a6a557",
   "metadata": {
    "scrolled": true
   },
   "outputs": [
    {
     "name": "stdout",
     "output_type": "stream",
     "text": [
      "          2013      2014      2015      2016      2017      2018      2019  \\\n",
      "2013  1.000000  0.999060  0.997635  0.996642  0.996170  0.995085  0.992994   \n",
      "2014  0.999060  1.000000  0.998770  0.997741  0.997294  0.996115  0.994414   \n",
      "2015  0.997635  0.998770  1.000000  0.998670  0.998088  0.996427  0.993157   \n",
      "2016  0.996642  0.997741  0.998670  1.000000  0.999382  0.998300  0.996133   \n",
      "2017  0.996170  0.997294  0.998088  0.999382  1.000000  0.999361  0.996984   \n",
      "2018  0.995085  0.996115  0.996427  0.998300  0.999361  1.000000  0.998550   \n",
      "2019  0.992994  0.994414  0.993157  0.996133  0.996984  0.998550  1.000000   \n",
      "2020  0.987771  0.989527  0.987747  0.992517  0.993514  0.995596  0.998335   \n",
      "2021  0.986665  0.989137  0.988011  0.992179  0.993389  0.995486  0.997924   \n",
      "2022  0.984728  0.986366  0.985525  0.990636  0.991429  0.993410  0.995488   \n",
      "2023  0.981997  0.983533  0.981916  0.987583  0.987956  0.989623  0.991950   \n",
      "\n",
      "          2020      2021      2022      2023  \n",
      "2013  0.987771  0.986665  0.984728  0.981997  \n",
      "2014  0.989527  0.989137  0.986366  0.983533  \n",
      "2015  0.987747  0.988011  0.985525  0.981916  \n",
      "2016  0.992517  0.992179  0.990636  0.987583  \n",
      "2017  0.993514  0.993389  0.991429  0.987956  \n",
      "2018  0.995596  0.995486  0.993410  0.989623  \n",
      "2019  0.998335  0.997924  0.995488  0.991950  \n",
      "2020  1.000000  0.999131  0.996796  0.994616  \n",
      "2021  0.999131  1.000000  0.998313  0.995714  \n",
      "2022  0.996796  0.998313  1.000000  0.998485  \n",
      "2023  0.994616  0.995714  0.998485  1.000000  \n"
     ]
    }
   ],
   "source": [
    "corr_mat = df5.corr()\n",
    "print(corr_mat)"
   ]
  },
  {
   "cell_type": "markdown",
   "id": "932cab42-0e76-496e-ae59-2900bbe08216",
   "metadata": {},
   "source": [
    "#### lets better visualize the matrix"
   ]
  },
  {
   "cell_type": "code",
   "execution_count": 69,
   "id": "798450a2-343f-4ab7-878e-4f6e92d96c99",
   "metadata": {},
   "outputs": [
    {
     "data": {
      "image/png": "[encoded data removed]",
      "text/plain": [
       "<Figure size 600x600 with 2 Axes>"
      ]
     },
     "metadata": {},
     "output_type": "display_data"
    }
   ],
   "source": [
    "%matplotlib inline\n",
    "plt.figure(figsize=(6,6))\n",
    "sns.heatmap(corr_mat,annot=True,vmin=0,vmax=1)\n",
    "plt.title('Correlation Matrix')\n",
    "plt.show()"
   ]
  },
  {
   "cell_type": "code",
   "execution_count": 78,
   "id": "4827a97a-0bbe-46ca-98e2-5cecfe36068f",
   "metadata": {},
   "outputs": [],
   "source": [
    "df_long = df4.reset_index().melt(id_vars='County', var_name='Year', value_name='Enrollment')\n",
    "df_long['Year'] = df_long['Year'].astype(int)  "
   ]
  },
  {
   "cell_type": "code",
   "execution_count": 82,
   "id": "5c41ae34-1040-4820-ab1e-0e395ac28499",
   "metadata": {},
   "outputs": [
    {
     "data": {
      "text/html": [
       "<div>\n",
       "<style scoped>\n",
       "    .dataframe tbody tr th:only-of-type {\n",
       "        vertical-align: middle;\n",
       "    }\n",
       "\n",
       "    .dataframe tbody tr th {\n",
       "        vertical-align: top;\n",
       "    }\n",
       "\n",
       "    .dataframe thead th {\n",
       "        text-align: right;\n",
       "    }\n",
       "</style>\n",
       "<table border=\"1\" class=\"dataframe\">\n",
       "  <thead>\n",
       "    <tr style=\"text-align: right;\">\n",
       "      <th></th>\n",
       "      <th>County</th>\n",
       "      <th>Year</th>\n",
       "      <th>Enrollment</th>\n",
       "    </tr>\n",
       "  </thead>\n",
       "  <tbody>\n",
       "    <tr>\n",
       "      <th>0</th>\n",
       "      <td>Bakersfield</td>\n",
       "      <td>2013</td>\n",
       "      <td>8371</td>\n",
       "    </tr>\n",
       "    <tr>\n",
       "      <th>1</th>\n",
       "      <td>Channel Islands</td>\n",
       "      <td>2013</td>\n",
       "      <td>5140</td>\n",
       "    </tr>\n",
       "    <tr>\n",
       "      <th>2</th>\n",
       "      <td>Chico</td>\n",
       "      <td>2013</td>\n",
       "      <td>16356</td>\n",
       "    </tr>\n",
       "    <tr>\n",
       "      <th>3</th>\n",
       "      <td>Dominguez Hills</td>\n",
       "      <td>2013</td>\n",
       "      <td>14670</td>\n",
       "    </tr>\n",
       "    <tr>\n",
       "      <th>4</th>\n",
       "      <td>East Bay</td>\n",
       "      <td>2013</td>\n",
       "      <td>14526</td>\n",
       "    </tr>\n",
       "  </tbody>\n",
       "</table>\n",
       "</div>"
      ],
      "text/plain": [
       "            County  Year  Enrollment\n",
       "0      Bakersfield  2013        8371\n",
       "1  Channel Islands  2013        5140\n",
       "2            Chico  2013       16356\n",
       "3  Dominguez Hills  2013       14670\n",
       "4         East Bay  2013       14526"
      ]
     },
     "execution_count": 82,
     "metadata": {},
     "output_type": "execute_result"
    }
   ],
   "source": [
    "df_long.head()"
   ]
  },
  {
   "cell_type": "markdown",
   "id": "3ed75aa6-6448-4725-b418-017dead824f8",
   "metadata": {},
   "source": [
    "#### Now county needs to be encoded for our machine learning model"
   ]
  },
  {
   "cell_type": "code",
   "execution_count": 88,
   "id": "6e2f1e87-c3b7-44dc-9c8c-622d77b3b7ed",
   "metadata": {},
   "outputs": [
    {
     "data": {
      "text/html": [
       "<style>#sk-container-id-1 {color: black;}#sk-container-id-1 pre{padding: 0;}#sk-container-id-1 div.sk-toggleable {background-color: white;}#sk-container-id-1 label.sk-toggleable__label {cursor: pointer;display: block;width: 100%;margin-bottom: 0;padding: 0.3em;box-sizing: border-box;text-align: center;}#sk-container-id-1 label.sk-toggleable__label-arrow:before {content: \"▸\";float: left;margin-right: 0.25em;color: #696969;}#sk-container-id-1 label.sk-toggleable__label-arrow:hover:before {color: black;}#sk-container-id-1 div.sk-estimator:hover label.sk-toggleable__label-arrow:before {color: black;}#sk-container-id-1 div.sk-toggleable__content {max-height: 0;max-width: 0;overflow: hidden;text-align: left;background-color: #f0f8ff;}#sk-container-id-1 div.sk-toggleable__content pre {margin: 0.2em;color: black;border-radius: 0.25em;background-color: #f0f8ff;}#sk-container-id-1 input.sk-toggleable__control:checked~div.sk-toggleable__content {max-height: 200px;max-width: 100%;overflow: auto;}#sk-container-id-1 input.sk-toggleable__control:checked~label.sk-toggleable__label-arrow:before {content: \"▾\";}#sk-container-id-1 div.sk-estimator input.sk-toggleable__control:checked~label.sk-toggleable__label {background-color: #d4ebff;}#sk-container-id-1 div.sk-label input.sk-toggleable__control:checked~label.sk-toggleable__label {background-color: #d4ebff;}#sk-container-id-1 input.sk-hidden--visually {border: 0;clip: rect(1px 1px 1px 1px);clip: rect(1px, 1px, 1px, 1px);height: 1px;margin: -1px;overflow: hidden;padding: 0;position: absolute;width: 1px;}#sk-container-id-1 div.sk-estimator {font-family: monospace;background-color: #f0f8ff;border: 1px dotted black;border-radius: 0.25em;box-sizing: border-box;margin-bottom: 0.5em;}#sk-container-id-1 div.sk-estimator:hover {background-color: #d4ebff;}#sk-container-id-1 div.sk-parallel-item::after {content: \"\";width: 100%;border-bottom: 1px solid gray;flex-grow: 1;}#sk-container-id-1 div.sk-label:hover label.sk-toggleable__label {background-color: #d4ebff;}#sk-container-id-1 div.sk-serial::before {content: \"\";position: absolute;border-left: 1px solid gray;box-sizing: border-box;top: 0;bottom: 0;left: 50%;z-index: 0;}#sk-container-id-1 div.sk-serial {display: flex;flex-direction: column;align-items: center;background-color: white;padding-right: 0.2em;padding-left: 0.2em;position: relative;}#sk-container-id-1 div.sk-item {position: relative;z-index: 1;}#sk-container-id-1 div.sk-parallel {display: flex;align-items: stretch;justify-content: center;background-color: white;position: relative;}#sk-container-id-1 div.sk-item::before, #sk-container-id-1 div.sk-parallel-item::before {content: \"\";position: absolute;border-left: 1px solid gray;box-sizing: border-box;top: 0;bottom: 0;left: 50%;z-index: -1;}#sk-container-id-1 div.sk-parallel-item {display: flex;flex-direction: column;z-index: 1;position: relative;background-color: white;}#sk-container-id-1 div.sk-parallel-item:first-child::after {align-self: flex-end;width: 50%;}#sk-container-id-1 div.sk-parallel-item:last-child::after {align-self: flex-start;width: 50%;}#sk-container-id-1 div.sk-parallel-item:only-child::after {width: 0;}#sk-container-id-1 div.sk-dashed-wrapped {border: 1px dashed gray;margin: 0 0.4em 0.5em 0.4em;box-sizing: border-box;padding-bottom: 0.4em;background-color: white;}#sk-container-id-1 div.sk-label label {font-family: monospace;font-weight: bold;display: inline-block;line-height: 1.2em;}#sk-container-id-1 div.sk-label-container {text-align: center;}#sk-container-id-1 div.sk-container {/* jupyter's `normalize.less` sets `[hidden] { display: none; }` but bootstrap.min.css set `[hidden] { display: none !important; }` so we also need the `!important` here to be able to override the default hidden behavior on the sphinx rendered scikit-learn.org. See: https://github.com/scikit-learn/scikit-learn/issues/21755 */display: inline-block !important;position: relative;}#sk-container-id-1 div.sk-text-repr-fallback {display: none;}</style><div id=\"sk-container-id-1\" class=\"sk-top-container\"><div class=\"sk-text-repr-fallback\"><pre>LabelEncoder()</pre><b>In a Jupyter environment, please rerun this cell to show the HTML representation or trust the notebook. <br />On GitHub, the HTML representation is unable to render, please try loading this page with nbviewer.org.</b></div><div class=\"sk-container\" hidden><div class=\"sk-item\"><div class=\"sk-estimator sk-toggleable\"><input class=\"sk-toggleable__control sk-hidden--visually\" id=\"sk-estimator-id-1\" type=\"checkbox\" checked><label for=\"sk-estimator-id-1\" class=\"sk-toggleable__label sk-toggleable__label-arrow\">LabelEncoder</label><div class=\"sk-toggleable__content\"><pre>LabelEncoder()</pre></div></div></div></div></div>"
      ],
      "text/plain": [
       "LabelEncoder()"
      ]
     },
     "execution_count": 88,
     "metadata": {},
     "output_type": "execute_result"
    }
   ],
   "source": [
    "from sklearn.preprocessing import LabelEncoder\n",
    "\n",
    "le = LabelEncoder()\n",
    "le"
   ]
  },
  {
   "cell_type": "code",
   "execution_count": 89,
   "id": "dbda876b-976f-46a8-aeca-d43275c9235d",
   "metadata": {},
   "outputs": [
    {
     "data": {
      "text/html": [
       "<div>\n",
       "<style scoped>\n",
       "    .dataframe tbody tr th:only-of-type {\n",
       "        vertical-align: middle;\n",
       "    }\n",
       "\n",
       "    .dataframe tbody tr th {\n",
       "        vertical-align: top;\n",
       "    }\n",
       "\n",
       "    .dataframe thead th {\n",
       "        text-align: right;\n",
       "    }\n",
       "</style>\n",
       "<table border=\"1\" class=\"dataframe\">\n",
       "  <thead>\n",
       "    <tr style=\"text-align: right;\">\n",
       "      <th></th>\n",
       "      <th>County</th>\n",
       "      <th>Year</th>\n",
       "      <th>Enrollment</th>\n",
       "      <th>County_N</th>\n",
       "    </tr>\n",
       "  </thead>\n",
       "  <tbody>\n",
       "    <tr>\n",
       "      <th>0</th>\n",
       "      <td>Bakersfield</td>\n",
       "      <td>2013</td>\n",
       "      <td>8371</td>\n",
       "      <td>0</td>\n",
       "    </tr>\n",
       "    <tr>\n",
       "      <th>1</th>\n",
       "      <td>Channel Islands</td>\n",
       "      <td>2013</td>\n",
       "      <td>5140</td>\n",
       "      <td>2</td>\n",
       "    </tr>\n",
       "    <tr>\n",
       "      <th>2</th>\n",
       "      <td>Chico</td>\n",
       "      <td>2013</td>\n",
       "      <td>16356</td>\n",
       "      <td>3</td>\n",
       "    </tr>\n",
       "    <tr>\n",
       "      <th>3</th>\n",
       "      <td>Dominguez Hills</td>\n",
       "      <td>2013</td>\n",
       "      <td>14670</td>\n",
       "      <td>4</td>\n",
       "    </tr>\n",
       "    <tr>\n",
       "      <th>4</th>\n",
       "      <td>East Bay</td>\n",
       "      <td>2013</td>\n",
       "      <td>14526</td>\n",
       "      <td>5</td>\n",
       "    </tr>\n",
       "  </tbody>\n",
       "</table>\n",
       "</div>"
      ],
      "text/plain": [
       "            County  Year  Enrollment  County_N\n",
       "0      Bakersfield  2013        8371         0\n",
       "1  Channel Islands  2013        5140         2\n",
       "2            Chico  2013       16356         3\n",
       "3  Dominguez Hills  2013       14670         4\n",
       "4         East Bay  2013       14526         5"
      ]
     },
     "execution_count": 89,
     "metadata": {},
     "output_type": "execute_result"
    }
   ],
   "source": [
    "df_long['County_N'] = le.fit_transform(df_long.County)\n",
    "df_long.head()"
   ]
  },
  {
   "cell_type": "code",
   "execution_count": 94,
   "id": "5f5cc00c-a3ea-4a32-a8e7-30843f5acf4c",
   "metadata": {},
   "outputs": [
    {
     "data": {
      "text/plain": [
       "array(['Bakersfield', 'Channel Islands', 'Chico', 'Dominguez Hills',\n",
       "       'East Bay', 'Fresno', 'Fullerton', 'Humboldt', 'Long Beach',\n",
       "       'Los Angeles', 'Maritime', 'Monterey Bay', 'Northridge', 'Pomona',\n",
       "       'Sacramento', 'San Bernardino', 'San Diego', 'San Francisco',\n",
       "       'San Jose', 'San Luis Obispo', 'San Marcos', 'Sonoma',\n",
       "       'Stanislaus', 'CalStateTEACH', 'International Program'],\n",
       "      dtype=object)"
      ]
     },
     "execution_count": 94,
     "metadata": {},
     "output_type": "execute_result"
    }
   ],
   "source": [
    "values = df_long.County.unique()\n",
    "values"
   ]
  },
  {
   "cell_type": "code",
   "execution_count": 95,
   "id": "acb65882-e49e-42f5-876e-c9a8571e5f61",
   "metadata": {},
   "outputs": [
    {
     "data": {
      "text/plain": [
       "array([ 0,  2,  3,  4,  5,  6,  7,  8, 10, 11, 12, 13, 14, 15, 16, 17, 18,\n",
       "       19, 20, 21, 22, 23, 24,  1,  9])"
      ]
     },
     "execution_count": 95,
     "metadata": {},
     "output_type": "execute_result"
    }
   ],
   "source": [
    "keys = df_long.County_N.unique()\n",
    "keys"
   ]
  },
  {
   "cell_type": "markdown",
   "id": "a4ba9f31-f639-4f73-be6d-f6ac5760f243",
   "metadata": {},
   "source": [
    "#### mapping key value pairs in a dictionary using dict() and zip() function"
   ]
  },
  {
   "cell_type": "code",
   "execution_count": 96,
   "id": "dd9d90db-7210-48f3-8192-ce9435c2007b",
   "metadata": {
    "scrolled": true
   },
   "outputs": [
    {
     "data": {
      "text/plain": [
       "{0: 'Bakersfield',\n",
       " 2: 'Channel Islands',\n",
       " 3: 'Chico',\n",
       " 4: 'Dominguez Hills',\n",
       " 5: 'East Bay',\n",
       " 6: 'Fresno',\n",
       " 7: 'Fullerton',\n",
       " 8: 'Humboldt',\n",
       " 10: 'Long Beach',\n",
       " 11: 'Los Angeles',\n",
       " 12: 'Maritime',\n",
       " 13: 'Monterey Bay',\n",
       " 14: 'Northridge',\n",
       " 15: 'Pomona',\n",
       " 16: 'Sacramento',\n",
       " 17: 'San Bernardino',\n",
       " 18: 'San Diego',\n",
       " 19: 'San Francisco',\n",
       " 20: 'San Jose',\n",
       " 21: 'San Luis Obispo',\n",
       " 22: 'San Marcos',\n",
       " 23: 'Sonoma',\n",
       " 24: 'Stanislaus',\n",
       " 1: 'CalStateTEACH',\n",
       " 9: 'International Program'}"
      ]
     },
     "execution_count": 96,
     "metadata": {},
     "output_type": "execute_result"
    }
   ],
   "source": [
    "res = dict(zip(keys,values))\n",
    "res"
   ]
  },
  {
   "cell_type": "code",
   "execution_count": 98,
   "id": "dc846a5a-d98a-4dde-8ef7-b33bc07bf7b2",
   "metadata": {},
   "outputs": [
    {
     "data": {
      "text/html": [
       "<div>\n",
       "<style scoped>\n",
       "    .dataframe tbody tr th:only-of-type {\n",
       "        vertical-align: middle;\n",
       "    }\n",
       "\n",
       "    .dataframe tbody tr th {\n",
       "        vertical-align: top;\n",
       "    }\n",
       "\n",
       "    .dataframe thead th {\n",
       "        text-align: right;\n",
       "    }\n",
       "</style>\n",
       "<table border=\"1\" class=\"dataframe\">\n",
       "  <thead>\n",
       "    <tr style=\"text-align: right;\">\n",
       "      <th></th>\n",
       "      <th>County</th>\n",
       "      <th>Year</th>\n",
       "      <th>Enrollment</th>\n",
       "      <th>County_N</th>\n",
       "    </tr>\n",
       "  </thead>\n",
       "  <tbody>\n",
       "    <tr>\n",
       "      <th>270</th>\n",
       "      <td>San Marcos</td>\n",
       "      <td>2023</td>\n",
       "      <td>13932</td>\n",
       "      <td>22</td>\n",
       "    </tr>\n",
       "    <tr>\n",
       "      <th>271</th>\n",
       "      <td>Sonoma</td>\n",
       "      <td>2023</td>\n",
       "      <td>5865</td>\n",
       "      <td>23</td>\n",
       "    </tr>\n",
       "    <tr>\n",
       "      <th>272</th>\n",
       "      <td>Stanislaus</td>\n",
       "      <td>2023</td>\n",
       "      <td>9440</td>\n",
       "      <td>24</td>\n",
       "    </tr>\n",
       "    <tr>\n",
       "      <th>273</th>\n",
       "      <td>CalStateTEACH</td>\n",
       "      <td>2023</td>\n",
       "      <td>869</td>\n",
       "      <td>1</td>\n",
       "    </tr>\n",
       "    <tr>\n",
       "      <th>274</th>\n",
       "      <td>International Program</td>\n",
       "      <td>2023</td>\n",
       "      <td>338</td>\n",
       "      <td>9</td>\n",
       "    </tr>\n",
       "  </tbody>\n",
       "</table>\n",
       "</div>"
      ],
      "text/plain": [
       "                    County  Year  Enrollment  County_N\n",
       "270             San Marcos  2023       13932        22\n",
       "271                 Sonoma  2023        5865        23\n",
       "272             Stanislaus  2023        9440        24\n",
       "273          CalStateTEACH  2023         869         1\n",
       "274  International Program  2023         338         9"
      ]
     },
     "execution_count": 98,
     "metadata": {},
     "output_type": "execute_result"
    }
   ],
   "source": [
    "df_long.tail()"
   ]
  },
  {
   "cell_type": "code",
   "execution_count": 101,
   "id": "fe67fc6d-2274-419d-b276-2714d445dee6",
   "metadata": {},
   "outputs": [
    {
     "data": {
      "text/plain": [
       "'San Marcos'"
      ]
     },
     "execution_count": 101,
     "metadata": {},
     "output_type": "execute_result"
    }
   ],
   "source": [
    "res[22]"
   ]
  },
  {
   "cell_type": "code",
   "execution_count": 102,
   "id": "5b6d07bb-4adf-4bfc-a0d9-6397ebe69b95",
   "metadata": {},
   "outputs": [
    {
     "data": {
      "text/plain": [
       "'CalStateTEACH'"
      ]
     },
     "execution_count": 102,
     "metadata": {},
     "output_type": "execute_result"
    }
   ],
   "source": [
    "res[1]"
   ]
  },
  {
   "cell_type": "markdown",
   "id": "03c6050d-d14f-4668-b817-426f20d9a1da",
   "metadata": {},
   "source": [
    "#### this result will help us to recognize the region later"
   ]
  },
  {
   "cell_type": "code",
   "execution_count": null,
   "id": "ecd255a7-1ec3-4221-bedb-6c1eac8cb236",
   "metadata": {},
   "outputs": [],
   "source": []
  },
  {
   "cell_type": "markdown",
   "id": "d8457ca6-9fd4-466b-8c7c-383823142e21",
   "metadata": {},
   "source": [
    "## lets create our model"
   ]
  },
  {
   "cell_type": "code",
   "execution_count": 103,
   "id": "1b54b127-d06d-4af8-bd68-9c0728fcf129",
   "metadata": {},
   "outputs": [],
   "source": [
    "from sklearn.linear_model import LinearRegression\n",
    "from sklearn.model_selection import train_test_split"
   ]
  },
  {
   "cell_type": "code",
   "execution_count": 104,
   "id": "63404167-09d7-493c-9417-4a522592cbc0",
   "metadata": {},
   "outputs": [],
   "source": [
    "inputs = df_long.drop(columns=['County','Enrollment'],axis=1)\n",
    "target = df_long.Enrollment"
   ]
  },
  {
   "cell_type": "code",
   "execution_count": 105,
   "id": "f429222e-dec4-48ea-984a-bc508b3fd5b7",
   "metadata": {},
   "outputs": [],
   "source": [
    "X_train,X_test,y_train,y_test = train_test_split(inputs,target,test_size=0.3)"
   ]
  },
  {
   "cell_type": "code",
   "execution_count": 106,
   "id": "8fc17891-896d-4622-9126-a1ddcc2433b9",
   "metadata": {},
   "outputs": [
    {
     "data": {
      "text/plain": [
       "192"
      ]
     },
     "execution_count": 106,
     "metadata": {},
     "output_type": "execute_result"
    }
   ],
   "source": [
    "len(X_train)"
   ]
  },
  {
   "cell_type": "code",
   "execution_count": 107,
   "id": "5d1705bb-ad01-4b47-9418-8b89ce7d71da",
   "metadata": {},
   "outputs": [
    {
     "data": {
      "text/plain": [
       "83"
      ]
     },
     "execution_count": 107,
     "metadata": {},
     "output_type": "execute_result"
    }
   ],
   "source": [
    "len(y_test)"
   ]
  },
  {
   "cell_type": "code",
   "execution_count": 108,
   "id": "208d0706-dbc9-4b42-a441-52ffd31e0087",
   "metadata": {},
   "outputs": [
    {
     "data": {
      "text/html": [
       "<style>#sk-container-id-2 {color: black;}#sk-container-id-2 pre{padding: 0;}#sk-container-id-2 div.sk-toggleable {background-color: white;}#sk-container-id-2 label.sk-toggleable__label {cursor: pointer;display: block;width: 100%;margin-bottom: 0;padding: 0.3em;box-sizing: border-box;text-align: center;}#sk-container-id-2 label.sk-toggleable__label-arrow:before {content: \"▸\";float: left;margin-right: 0.25em;color: #696969;}#sk-container-id-2 label.sk-toggleable__label-arrow:hover:before {color: black;}#sk-container-id-2 div.sk-estimator:hover label.sk-toggleable__label-arrow:before {color: black;}#sk-container-id-2 div.sk-toggleable__content {max-height: 0;max-width: 0;overflow: hidden;text-align: left;background-color: #f0f8ff;}#sk-container-id-2 div.sk-toggleable__content pre {margin: 0.2em;color: black;border-radius: 0.25em;background-color: #f0f8ff;}#sk-container-id-2 input.sk-toggleable__control:checked~div.sk-toggleable__content {max-height: 200px;max-width: 100%;overflow: auto;}#sk-container-id-2 input.sk-toggleable__control:checked~label.sk-toggleable__label-arrow:before {content: \"▾\";}#sk-container-id-2 div.sk-estimator input.sk-toggleable__control:checked~label.sk-toggleable__label {background-color: #d4ebff;}#sk-container-id-2 div.sk-label input.sk-toggleable__control:checked~label.sk-toggleable__label {background-color: #d4ebff;}#sk-container-id-2 input.sk-hidden--visually {border: 0;clip: rect(1px 1px 1px 1px);clip: rect(1px, 1px, 1px, 1px);height: 1px;margin: -1px;overflow: hidden;padding: 0;position: absolute;width: 1px;}#sk-container-id-2 div.sk-estimator {font-family: monospace;background-color: #f0f8ff;border: 1px dotted black;border-radius: 0.25em;box-sizing: border-box;margin-bottom: 0.5em;}#sk-container-id-2 div.sk-estimator:hover {background-color: #d4ebff;}#sk-container-id-2 div.sk-parallel-item::after {content: \"\";width: 100%;border-bottom: 1px solid gray;flex-grow: 1;}#sk-container-id-2 div.sk-label:hover label.sk-toggleable__label {background-color: #d4ebff;}#sk-container-id-2 div.sk-serial::before {content: \"\";position: absolute;border-left: 1px solid gray;box-sizing: border-box;top: 0;bottom: 0;left: 50%;z-index: 0;}#sk-container-id-2 div.sk-serial {display: flex;flex-direction: column;align-items: center;background-color: white;padding-right: 0.2em;padding-left: 0.2em;position: relative;}#sk-container-id-2 div.sk-item {position: relative;z-index: 1;}#sk-container-id-2 div.sk-parallel {display: flex;align-items: stretch;justify-content: center;background-color: white;position: relative;}#sk-container-id-2 div.sk-item::before, #sk-container-id-2 div.sk-parallel-item::before {content: \"\";position: absolute;border-left: 1px solid gray;box-sizing: border-box;top: 0;bottom: 0;left: 50%;z-index: -1;}#sk-container-id-2 div.sk-parallel-item {display: flex;flex-direction: column;z-index: 1;position: relative;background-color: white;}#sk-container-id-2 div.sk-parallel-item:first-child::after {align-self: flex-end;width: 50%;}#sk-container-id-2 div.sk-parallel-item:last-child::after {align-self: flex-start;width: 50%;}#sk-container-id-2 div.sk-parallel-item:only-child::after {width: 0;}#sk-container-id-2 div.sk-dashed-wrapped {border: 1px dashed gray;margin: 0 0.4em 0.5em 0.4em;box-sizing: border-box;padding-bottom: 0.4em;background-color: white;}#sk-container-id-2 div.sk-label label {font-family: monospace;font-weight: bold;display: inline-block;line-height: 1.2em;}#sk-container-id-2 div.sk-label-container {text-align: center;}#sk-container-id-2 div.sk-container {/* jupyter's `normalize.less` sets `[hidden] { display: none; }` but bootstrap.min.css set `[hidden] { display: none !important; }` so we also need the `!important` here to be able to override the default hidden behavior on the sphinx rendered scikit-learn.org. See: https://github.com/scikit-learn/scikit-learn/issues/21755 */display: inline-block !important;position: relative;}#sk-container-id-2 div.sk-text-repr-fallback {display: none;}</style><div id=\"sk-container-id-2\" class=\"sk-top-container\"><div class=\"sk-text-repr-fallback\"><pre>LinearRegression()</pre><b>In a Jupyter environment, please rerun this cell to show the HTML representation or trust the notebook. <br />On GitHub, the HTML representation is unable to render, please try loading this page with nbviewer.org.</b></div><div class=\"sk-container\" hidden><div class=\"sk-item\"><div class=\"sk-estimator sk-toggleable\"><input class=\"sk-toggleable__control sk-hidden--visually\" id=\"sk-estimator-id-2\" type=\"checkbox\" checked><label for=\"sk-estimator-id-2\" class=\"sk-toggleable__label sk-toggleable__label-arrow\">LinearRegression</label><div class=\"sk-toggleable__content\"><pre>LinearRegression()</pre></div></div></div></div></div>"
      ],
      "text/plain": [
       "LinearRegression()"
      ]
     },
     "execution_count": 108,
     "metadata": {},
     "output_type": "execute_result"
    }
   ],
   "source": [
    "model = LinearRegression()\n",
    "model.fit(X_train,y_train)"
   ]
  },
  {
   "cell_type": "code",
   "execution_count": 109,
   "id": "03d25407-3f46-4ed4-89a8-4e4967d85755",
   "metadata": {},
   "outputs": [
    {
     "data": {
      "text/plain": [
       "0.03954887475363045"
      ]
     },
     "execution_count": 109,
     "metadata": {},
     "output_type": "execute_result"
    }
   ],
   "source": [
    "model.score(X_test,y_test)"
   ]
  },
  {
   "cell_type": "code",
   "execution_count": 110,
   "id": "ee8fb477-750b-40a0-8dc9-1cd3b4957327",
   "metadata": {},
   "outputs": [
    {
     "data": {
      "text/plain": [
       "{0: 'Bakersfield',\n",
       " 2: 'Channel Islands',\n",
       " 3: 'Chico',\n",
       " 4: 'Dominguez Hills',\n",
       " 5: 'East Bay',\n",
       " 6: 'Fresno',\n",
       " 7: 'Fullerton',\n",
       " 8: 'Humboldt',\n",
       " 10: 'Long Beach',\n",
       " 11: 'Los Angeles',\n",
       " 12: 'Maritime',\n",
       " 13: 'Monterey Bay',\n",
       " 14: 'Northridge',\n",
       " 15: 'Pomona',\n",
       " 16: 'Sacramento',\n",
       " 17: 'San Bernardino',\n",
       " 18: 'San Diego',\n",
       " 19: 'San Francisco',\n",
       " 20: 'San Jose',\n",
       " 21: 'San Luis Obispo',\n",
       " 22: 'San Marcos',\n",
       " 23: 'Sonoma',\n",
       " 24: 'Stanislaus',\n",
       " 1: 'CalStateTEACH',\n",
       " 9: 'International Program'}"
      ]
     },
     "execution_count": 110,
     "metadata": {},
     "output_type": "execute_result"
    }
   ],
   "source": [
    "res"
   ]
  },
  {
   "cell_type": "code",
   "execution_count": 111,
   "id": "979c07a6-0a59-426b-b614-726dc305ef5c",
   "metadata": {},
   "outputs": [
    {
     "data": {
      "text/plain": [
       "array([18589.46617864])"
      ]
     },
     "execution_count": 111,
     "metadata": {},
     "output_type": "execute_result"
    }
   ],
   "source": [
    "model.predict([[2024,10]])"
   ]
  },
  {
   "cell_type": "code",
   "execution_count": null,
   "id": "d63192f9-5928-45f4-956b-da8d962e3e1e",
   "metadata": {},
   "outputs": [],
   "source": []
  }
 ],
 "metadata": {
  "kernelspec": {
   "display_name": "Python 3 (ipykernel)",
   "language": "python",
   "name": "python3"
  },
  "language_info": {
   "codemirror_mode": {
    "name": "ipython",
    "version": 3
   },
   "file_extension": ".py",
   "mimetype": "text/x-python",
   "name": "python",
   "nbconvert_exporter": "python",
   "pygments_lexer": "ipython3",
   "version": "3.11.5"
  }
 },
 "nbformat": 4,
 "nbformat_minor": 5
}
